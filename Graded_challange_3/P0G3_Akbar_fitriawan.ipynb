{
 "cells": [
  {
   "cell_type": "markdown",
   "metadata": {},
   "source": [
    "---\n",
    "\n",
    "=================================================  \n",
    "Graded Challenge 3  \n",
    "\n",
    "Nama  : Akbar Fitriawan  \n",
    "Batch : HCK-14  \n",
    "\n",
    ">Progarm ini dibuat untuk melakukan web scraping, Data preparation, Business knowladge, statistics descriptive dan statistics inferential. Kasusnya adalah ingin nenambah pendapatan dengan berjualan namun modal produksi tidak mencukupi dan hanya mampu untuk promosi sehingga menjalankan dropshipping di tokopedia. akan tetapi masih bingung dengan ide usaha untuk berjualan, namun teringat yang sedang trend Seblak tetapi  tidak yakin apakah benar bahwa masyarakat memiliki animo yang besar terhadap seblak\n",
    "=================================================  \n"
   ]
  },
  {
   "cell_type": "markdown",
   "metadata": {},
   "source": [
    "# Set up"
   ]
  },
  {
   "cell_type": "code",
   "execution_count": 2,
   "metadata": {},
   "outputs": [],
   "source": [
    "from selenium import webdriver \n",
    "from bs4 import BeautifulSoup\n",
    "from scipy import stats\n",
    "import pandas as pd\n",
    "import numpy as np\n"
   ]
  },
  {
   "cell_type": "markdown",
   "metadata": {},
   "source": [
    "# A. Web Scraping"
   ]
  },
  {
   "cell_type": "markdown",
   "metadata": {},
   "source": [
    "---"
   ]
  },
  {
   "cell_type": "code",
   "execution_count": 250,
   "metadata": {},
   "outputs": [],
   "source": [
    "# inisialisasi webdriver chrome\n",
    "driver = webdriver.Chrome()"
   ]
  },
  {
   "cell_type": "markdown",
   "metadata": {},
   "source": [
    "## Pengambilan Data"
   ]
  },
  {
   "cell_type": "code",
   "execution_count": 251,
   "metadata": {},
   "outputs": [
    {
     "data": {
      "text/html": [
       "<div>\n",
       "<style scoped>\n",
       "    .dataframe tbody tr th:only-of-type {\n",
       "        vertical-align: middle;\n",
       "    }\n",
       "\n",
       "    .dataframe tbody tr th {\n",
       "        vertical-align: top;\n",
       "    }\n",
       "\n",
       "    .dataframe thead th {\n",
       "        text-align: right;\n",
       "    }\n",
       "</style>\n",
       "<table border=\"1\" class=\"dataframe\">\n",
       "  <thead>\n",
       "    <tr style=\"text-align: right;\">\n",
       "      <th></th>\n",
       "      <th>nama</th>\n",
       "      <th>harga</th>\n",
       "      <th>penjual</th>\n",
       "      <th>lokasi_toko</th>\n",
       "      <th>terjual</th>\n",
       "      <th>rating</th>\n",
       "    </tr>\n",
       "  </thead>\n",
       "  <tbody>\n",
       "    <tr>\n",
       "      <th>0</th>\n",
       "      <td>Seblak Instan Ceu Nthien Khas Bandung Rasana N...</td>\n",
       "      <td>Rp17.000</td>\n",
       "      <td>Central Seblak Nusantara</td>\n",
       "      <td>Tangerang Selatan</td>\n",
       "      <td>2rb+ terjual</td>\n",
       "      <td>4.9</td>\n",
       "    </tr>\n",
       "    <tr>\n",
       "      <th>1</th>\n",
       "      <td>Seblak Beton 1kg Pedas Daun Jeruk / Seblak Ker...</td>\n",
       "      <td>Rp42.500</td>\n",
       "      <td>D&amp;R-9 collection</td>\n",
       "      <td>Bandung</td>\n",
       "      <td>0</td>\n",
       "      <td>0</td>\n",
       "    </tr>\n",
       "    <tr>\n",
       "      <th>2</th>\n",
       "      <td>GFS Seblak Basah Instan Original - Tinggal Sed...</td>\n",
       "      <td>Rp16.618</td>\n",
       "      <td>Lakoca Official Shop</td>\n",
       "      <td>Cimahi</td>\n",
       "      <td>100+ terjual</td>\n",
       "      <td>4.9</td>\n",
       "    </tr>\n",
       "    <tr>\n",
       "      <th>3</th>\n",
       "      <td>Seblak instant murah</td>\n",
       "      <td>Rp4.900</td>\n",
       "      <td>dapurbulbin</td>\n",
       "      <td>Bandung</td>\n",
       "      <td>0</td>\n",
       "      <td>0</td>\n",
       "    </tr>\n",
       "    <tr>\n",
       "      <th>4</th>\n",
       "      <td>3 BASO ACI FREE SEBLAK SAJODO SNACK &amp; FOOD</td>\n",
       "      <td>Rp61.999</td>\n",
       "      <td>Sajodo Snack &amp; Food</td>\n",
       "      <td>Tasikmalaya</td>\n",
       "      <td>40+ terjual</td>\n",
       "      <td>5.0</td>\n",
       "    </tr>\n",
       "    <tr>\n",
       "      <th>...</th>\n",
       "      <td>...</td>\n",
       "      <td>...</td>\n",
       "      <td>...</td>\n",
       "      <td>...</td>\n",
       "      <td>...</td>\n",
       "      <td>...</td>\n",
       "    </tr>\n",
       "    <tr>\n",
       "      <th>145</th>\n",
       "      <td>baso aci keju, boci, bakso aci, cuanki, seblak...</td>\n",
       "      <td>Rp10.000</td>\n",
       "      <td>baso aci masabi</td>\n",
       "      <td>Jakarta Selatan</td>\n",
       "      <td>100+ terjual</td>\n",
       "      <td>5.0</td>\n",
       "    </tr>\n",
       "    <tr>\n",
       "      <th>146</th>\n",
       "      <td>Seblak Bantat 250 gram</td>\n",
       "      <td>Rp15.500</td>\n",
       "      <td>Kriuk Kriuk Snack Kiloan New</td>\n",
       "      <td>Bandung</td>\n",
       "      <td>20 terjual</td>\n",
       "      <td>4.9</td>\n",
       "    </tr>\n",
       "    <tr>\n",
       "      <th>147</th>\n",
       "      <td>Seblak Instan Enak dan Murah</td>\n",
       "      <td>Rp11.000</td>\n",
       "      <td>Aishakira online</td>\n",
       "      <td>Jakarta Timur</td>\n",
       "      <td>80+ terjual</td>\n",
       "      <td>5.0</td>\n",
       "    </tr>\n",
       "    <tr>\n",
       "      <th>148</th>\n",
       "      <td>cuanki pangsit segitiga atau cipet isi 40 pcs ...</td>\n",
       "      <td>Rp13.999</td>\n",
       "      <td>CUANKI CULAMETAN</td>\n",
       "      <td>Kab. Garut</td>\n",
       "      <td>100+ terjual</td>\n",
       "      <td>4.8</td>\n",
       "    </tr>\n",
       "    <tr>\n",
       "      <th>149</th>\n",
       "      <td>Batagor Lidah Kering Cuanki 1 Bungkus Bakso Ac...</td>\n",
       "      <td>Rp11.000</td>\n",
       "      <td>Celikafood</td>\n",
       "      <td>Bandung</td>\n",
       "      <td>100+ terjual</td>\n",
       "      <td>4.8</td>\n",
       "    </tr>\n",
       "  </tbody>\n",
       "</table>\n",
       "<p>150 rows × 6 columns</p>\n",
       "</div>"
      ],
      "text/plain": [
       "                                                  nama     harga  \\\n",
       "0    Seblak Instan Ceu Nthien Khas Bandung Rasana N...  Rp17.000   \n",
       "1    Seblak Beton 1kg Pedas Daun Jeruk / Seblak Ker...  Rp42.500   \n",
       "2    GFS Seblak Basah Instan Original - Tinggal Sed...  Rp16.618   \n",
       "3                                 Seblak instant murah   Rp4.900   \n",
       "4           3 BASO ACI FREE SEBLAK SAJODO SNACK & FOOD  Rp61.999   \n",
       "..                                                 ...       ...   \n",
       "145  baso aci keju, boci, bakso aci, cuanki, seblak...  Rp10.000   \n",
       "146                             Seblak Bantat 250 gram  Rp15.500   \n",
       "147                       Seblak Instan Enak dan Murah  Rp11.000   \n",
       "148  cuanki pangsit segitiga atau cipet isi 40 pcs ...  Rp13.999   \n",
       "149  Batagor Lidah Kering Cuanki 1 Bungkus Bakso Ac...  Rp11.000   \n",
       "\n",
       "                          penjual        lokasi_toko       terjual rating  \n",
       "0        Central Seblak Nusantara  Tangerang Selatan  2rb+ terjual    4.9  \n",
       "1                D&R-9 collection            Bandung             0      0  \n",
       "2            Lakoca Official Shop             Cimahi  100+ terjual    4.9  \n",
       "3                     dapurbulbin            Bandung             0      0  \n",
       "4             Sajodo Snack & Food        Tasikmalaya   40+ terjual    5.0  \n",
       "..                            ...                ...           ...    ...  \n",
       "145               baso aci masabi    Jakarta Selatan  100+ terjual    5.0  \n",
       "146  Kriuk Kriuk Snack Kiloan New            Bandung    20 terjual    4.9  \n",
       "147              Aishakira online      Jakarta Timur   80+ terjual    5.0  \n",
       "148              CUANKI CULAMETAN         Kab. Garut  100+ terjual    4.8  \n",
       "149                    Celikafood            Bandung  100+ terjual    4.8  \n",
       "\n",
       "[150 rows x 6 columns]"
      ]
     },
     "execution_count": 251,
     "metadata": {},
     "output_type": "execute_result"
    }
   ],
   "source": [
    "# membuat data list penampung\n",
    "\n",
    "nama = []\n",
    "harga = []\n",
    "penjual = []\n",
    "lokasi_toko = []\n",
    "terjual = []\n",
    "rating = []\n",
    "\n",
    "# looping url sampai halaman\n",
    "\n",
    "for i in range(1,16):\n",
    "\n",
    "    # membuat target url dan mengakses dengan webdriver chrome\n",
    "    url = 'https://www.tokopedia.com/search?navsource=&page={}&q=seblak&srp_component_id=02.01.00.00&srp_page_id=&srp_page_title=&st='.format(i)\n",
    "    driver.get(url)\n",
    "\n",
    "    # mengambil page source\n",
    "    html = driver.page_source\n",
    "    # inisialisasi Beatifulsoup\n",
    "    soups = BeautifulSoup(html, 'html.parser')\n",
    "    \n",
    "    # inisialisasi parent div\n",
    "    soup = soups.find('div',{\"data-testid\":\"divSRPContentProducts\"})\n",
    "\n",
    "    # looping cari di setiap card\n",
    "    for item in soup.find_all('div', {'data-testid': 'master-product-card'}):\n",
    "\n",
    "        # handling eror jika data kosong dan di loop\n",
    "        try:\n",
    "            element_nama = item.find('div', {'data-testid':'spnSRPProdName'})\n",
    "            nama.append(element_nama.get_text())\n",
    "        except:\n",
    "            nama.append('0') \n",
    "                \n",
    "        try:\n",
    "            element_harga = item.find('div', {'data-testid':'spnSRPProdPrice'})\n",
    "            harga.append(element_harga.get_text())\n",
    "\n",
    "        except:\n",
    "            harga.append('0')\n",
    "                \n",
    "        try:\n",
    "            element_lokasi = item.find('span', {'data-testid':'spnSRPProdTabShopLoc'})\n",
    "            lokasi_toko.append(element_lokasi.get_text())\n",
    "        except: \n",
    "            lokasi_toko.append('0')\n",
    "\n",
    "        try:\n",
    "            element_penjual = item.find('span', {'class':'prd_link-shop-name css-1kdc32b flip'})\n",
    "            penjual.append(element_penjual.get_text())\n",
    "        except:\n",
    "            penjual.append('0')\n",
    "\n",
    "        try:\n",
    "            element_rating = item.find('span', {'class':'prd_rating-average-text css-t70v7i'})\n",
    "            rating.append(element_rating.get_text())\n",
    "            \n",
    "        except:\n",
    "            rating.append('0')\n",
    "            \n",
    "        try:\n",
    "            element_terjual = item.find('span', {'class':'prd_label-integrity css-1sgek4h'})\n",
    "            terjual.append(element_terjual.get_text())\n",
    "                \n",
    "        except:\n",
    "            terjual.append('0')\n",
    "\n",
    "\n",
    "data = pd.DataFrame()\n",
    "data['nama'] = nama\n",
    "data['harga'] = harga\n",
    "data['penjual'] = penjual\n",
    "data['lokasi_toko'] = lokasi_toko\n",
    "data['terjual'] = terjual\n",
    "data['rating'] = rating\n",
    "\n",
    "\n",
    "data\n"
   ]
  },
  {
   "cell_type": "markdown",
   "metadata": {},
   "source": [
    "Catatan : Ada beberapa kolom teridentifikasi 0 atau null(Missing value) dikarenakan produk tersebut baru atau lunching  \n",
    "Solusi : melakukan pengahapusan, namun apa bila informasi ini berguna kemungkinan memasukan ke dataframe lain "
   ]
  },
  {
   "cell_type": "code",
   "execution_count": 252,
   "metadata": {},
   "outputs": [
    {
     "name": "stdout",
     "output_type": "stream",
     "text": [
      "150\n",
      "150\n",
      "150\n",
      "150\n",
      "150\n",
      "150\n"
     ]
    }
   ],
   "source": [
    "# cek panjang data apakah sama panjang\n",
    "print(len(data['nama'].values)) #  kolom nama\n",
    "print(len(data['harga'].values)) # kolom harga\n",
    "print(len(data['penjual'].values)) # kolom penjual\n",
    "print(len(data['lokasi_toko'].values)) # kolom lokasi\n",
    "print(len(data['terjual'].values)) # kolom terjual\n",
    "print(len(data['rating'].values)) # kolom rating"
   ]
  },
  {
   "cell_type": "code",
   "execution_count": null,
   "metadata": {},
   "outputs": [],
   "source": [
    "# save data agar tidak hilang\n",
    "data.to_csv('data_scrap.csv', index=False)"
   ]
  },
  {
   "cell_type": "markdown",
   "metadata": {},
   "source": [
    "---\n"
   ]
  },
  {
   "cell_type": "markdown",
   "metadata": {},
   "source": [
    "# B. Persiapan Data"
   ]
  },
  {
   "cell_type": "markdown",
   "metadata": {},
   "source": [
    "## Load Data"
   ]
  },
  {
   "cell_type": "code",
   "execution_count": 3,
   "metadata": {},
   "outputs": [
    {
     "data": {
      "text/html": [
       "<div>\n",
       "<style scoped>\n",
       "    .dataframe tbody tr th:only-of-type {\n",
       "        vertical-align: middle;\n",
       "    }\n",
       "\n",
       "    .dataframe tbody tr th {\n",
       "        vertical-align: top;\n",
       "    }\n",
       "\n",
       "    .dataframe thead th {\n",
       "        text-align: right;\n",
       "    }\n",
       "</style>\n",
       "<table border=\"1\" class=\"dataframe\">\n",
       "  <thead>\n",
       "    <tr style=\"text-align: right;\">\n",
       "      <th></th>\n",
       "      <th>nama</th>\n",
       "      <th>harga</th>\n",
       "      <th>penjual</th>\n",
       "      <th>lokasi_toko</th>\n",
       "      <th>terjual</th>\n",
       "      <th>rating</th>\n",
       "    </tr>\n",
       "  </thead>\n",
       "  <tbody>\n",
       "    <tr>\n",
       "      <th>0</th>\n",
       "      <td>Seblak Instan Ceu Nthien Khas Bandung Rasana N...</td>\n",
       "      <td>Rp17.000</td>\n",
       "      <td>Central Seblak Nusantara</td>\n",
       "      <td>Tangerang Selatan</td>\n",
       "      <td>2rb+ terjual</td>\n",
       "      <td>4.9</td>\n",
       "    </tr>\n",
       "    <tr>\n",
       "      <th>1</th>\n",
       "      <td>Seblak Beton 1kg Pedas Daun Jeruk / Seblak Ker...</td>\n",
       "      <td>Rp42.500</td>\n",
       "      <td>D&amp;R-9 collection</td>\n",
       "      <td>Bandung</td>\n",
       "      <td>0</td>\n",
       "      <td>0.0</td>\n",
       "    </tr>\n",
       "    <tr>\n",
       "      <th>2</th>\n",
       "      <td>GFS Seblak Basah Instan Original - Tinggal Sed...</td>\n",
       "      <td>Rp16.618</td>\n",
       "      <td>Lakoca Official Shop</td>\n",
       "      <td>Cimahi</td>\n",
       "      <td>100+ terjual</td>\n",
       "      <td>4.9</td>\n",
       "    </tr>\n",
       "    <tr>\n",
       "      <th>3</th>\n",
       "      <td>Seblak instant murah</td>\n",
       "      <td>Rp4.900</td>\n",
       "      <td>dapurbulbin</td>\n",
       "      <td>Bandung</td>\n",
       "      <td>0</td>\n",
       "      <td>0.0</td>\n",
       "    </tr>\n",
       "    <tr>\n",
       "      <th>4</th>\n",
       "      <td>3 BASO ACI FREE SEBLAK SAJODO SNACK &amp; FOOD</td>\n",
       "      <td>Rp61.999</td>\n",
       "      <td>Sajodo Snack &amp; Food</td>\n",
       "      <td>Tasikmalaya</td>\n",
       "      <td>40+ terjual</td>\n",
       "      <td>5.0</td>\n",
       "    </tr>\n",
       "  </tbody>\n",
       "</table>\n",
       "</div>"
      ],
      "text/plain": [
       "                                                nama     harga  \\\n",
       "0  Seblak Instan Ceu Nthien Khas Bandung Rasana N...  Rp17.000   \n",
       "1  Seblak Beton 1kg Pedas Daun Jeruk / Seblak Ker...  Rp42.500   \n",
       "2  GFS Seblak Basah Instan Original - Tinggal Sed...  Rp16.618   \n",
       "3                               Seblak instant murah   Rp4.900   \n",
       "4         3 BASO ACI FREE SEBLAK SAJODO SNACK & FOOD  Rp61.999   \n",
       "\n",
       "                    penjual        lokasi_toko       terjual  rating  \n",
       "0  Central Seblak Nusantara  Tangerang Selatan  2rb+ terjual     4.9  \n",
       "1          D&R-9 collection            Bandung             0     0.0  \n",
       "2      Lakoca Official Shop             Cimahi  100+ terjual     4.9  \n",
       "3               dapurbulbin            Bandung             0     0.0  \n",
       "4       Sajodo Snack & Food        Tasikmalaya   40+ terjual     5.0  "
      ]
     },
     "execution_count": 3,
     "metadata": {},
     "output_type": "execute_result"
    }
   ],
   "source": [
    "# load Data\n",
    "df = pd.read_csv('data_scrap.csv')\n",
    "df.head()"
   ]
  },
  {
   "cell_type": "markdown",
   "metadata": {},
   "source": [
    "---"
   ]
  },
  {
   "cell_type": "markdown",
   "metadata": {},
   "source": [
    "- Cek informasi data"
   ]
  },
  {
   "cell_type": "code",
   "execution_count": 4,
   "metadata": {},
   "outputs": [
    {
     "data": {
      "text/html": [
       "<div>\n",
       "<style scoped>\n",
       "    .dataframe tbody tr th:only-of-type {\n",
       "        vertical-align: middle;\n",
       "    }\n",
       "\n",
       "    .dataframe tbody tr th {\n",
       "        vertical-align: top;\n",
       "    }\n",
       "\n",
       "    .dataframe thead th {\n",
       "        text-align: right;\n",
       "    }\n",
       "</style>\n",
       "<table border=\"1\" class=\"dataframe\">\n",
       "  <thead>\n",
       "    <tr style=\"text-align: right;\">\n",
       "      <th></th>\n",
       "      <th>nama</th>\n",
       "      <th>harga</th>\n",
       "      <th>penjual</th>\n",
       "      <th>lokasi_toko</th>\n",
       "      <th>terjual</th>\n",
       "      <th>rating</th>\n",
       "    </tr>\n",
       "  </thead>\n",
       "  <tbody>\n",
       "    <tr>\n",
       "      <th>0</th>\n",
       "      <td>Seblak Instan Ceu Nthien Khas Bandung Rasana N...</td>\n",
       "      <td>Rp17.000</td>\n",
       "      <td>Central Seblak Nusantara</td>\n",
       "      <td>Tangerang Selatan</td>\n",
       "      <td>2rb+ terjual</td>\n",
       "      <td>4.9</td>\n",
       "    </tr>\n",
       "    <tr>\n",
       "      <th>1</th>\n",
       "      <td>Seblak Beton 1kg Pedas Daun Jeruk / Seblak Ker...</td>\n",
       "      <td>Rp42.500</td>\n",
       "      <td>D&amp;R-9 collection</td>\n",
       "      <td>Bandung</td>\n",
       "      <td>0</td>\n",
       "      <td>0.0</td>\n",
       "    </tr>\n",
       "    <tr>\n",
       "      <th>2</th>\n",
       "      <td>GFS Seblak Basah Instan Original - Tinggal Sed...</td>\n",
       "      <td>Rp16.618</td>\n",
       "      <td>Lakoca Official Shop</td>\n",
       "      <td>Cimahi</td>\n",
       "      <td>100+ terjual</td>\n",
       "      <td>4.9</td>\n",
       "    </tr>\n",
       "    <tr>\n",
       "      <th>3</th>\n",
       "      <td>Seblak instant murah</td>\n",
       "      <td>Rp4.900</td>\n",
       "      <td>dapurbulbin</td>\n",
       "      <td>Bandung</td>\n",
       "      <td>0</td>\n",
       "      <td>0.0</td>\n",
       "    </tr>\n",
       "    <tr>\n",
       "      <th>4</th>\n",
       "      <td>3 BASO ACI FREE SEBLAK SAJODO SNACK &amp; FOOD</td>\n",
       "      <td>Rp61.999</td>\n",
       "      <td>Sajodo Snack &amp; Food</td>\n",
       "      <td>Tasikmalaya</td>\n",
       "      <td>40+ terjual</td>\n",
       "      <td>5.0</td>\n",
       "    </tr>\n",
       "  </tbody>\n",
       "</table>\n",
       "</div>"
      ],
      "text/plain": [
       "                                                nama     harga  \\\n",
       "0  Seblak Instan Ceu Nthien Khas Bandung Rasana N...  Rp17.000   \n",
       "1  Seblak Beton 1kg Pedas Daun Jeruk / Seblak Ker...  Rp42.500   \n",
       "2  GFS Seblak Basah Instan Original - Tinggal Sed...  Rp16.618   \n",
       "3                               Seblak instant murah   Rp4.900   \n",
       "4         3 BASO ACI FREE SEBLAK SAJODO SNACK & FOOD  Rp61.999   \n",
       "\n",
       "                    penjual        lokasi_toko       terjual  rating  \n",
       "0  Central Seblak Nusantara  Tangerang Selatan  2rb+ terjual     4.9  \n",
       "1          D&R-9 collection            Bandung             0     0.0  \n",
       "2      Lakoca Official Shop             Cimahi  100+ terjual     4.9  \n",
       "3               dapurbulbin            Bandung             0     0.0  \n",
       "4       Sajodo Snack & Food        Tasikmalaya   40+ terjual     5.0  "
      ]
     },
     "execution_count": 4,
     "metadata": {},
     "output_type": "execute_result"
    }
   ],
   "source": [
    "df.head()"
   ]
  },
  {
   "cell_type": "markdown",
   "metadata": {},
   "source": [
    "ada beberapa kolom nol"
   ]
  },
  {
   "cell_type": "code",
   "execution_count": 5,
   "metadata": {},
   "outputs": [
    {
     "name": "stdout",
     "output_type": "stream",
     "text": [
      "<class 'pandas.core.frame.DataFrame'>\n",
      "RangeIndex: 150 entries, 0 to 149\n",
      "Data columns (total 6 columns):\n",
      " #   Column       Non-Null Count  Dtype  \n",
      "---  ------       --------------  -----  \n",
      " 0   nama         150 non-null    object \n",
      " 1   harga        150 non-null    object \n",
      " 2   penjual      150 non-null    object \n",
      " 3   lokasi_toko  150 non-null    object \n",
      " 4   terjual      150 non-null    object \n",
      " 5   rating       150 non-null    float64\n",
      "dtypes: float64(1), object(5)\n",
      "memory usage: 7.2+ KB\n"
     ]
    }
   ],
   "source": [
    "# ringakasn data\n",
    "df.info()"
   ]
  },
  {
   "cell_type": "markdown",
   "metadata": {},
   "source": [
    "Catatan:  \n",
    "- data memiliki 150 baris dan kolom 6\n",
    "- tipe data memiliki 1 float dan 5 object\n",
    "- untuk kolom yaitu nama, harga, penjual, terjual, rating\n",
    "- untuk harga kita rubah menjadi flaot dilangkah selanjutnya\n",
    "- sama juga untuk tipe data terjual kita rubah menjadi int "
   ]
  },
  {
   "cell_type": "code",
   "execution_count": 6,
   "metadata": {},
   "outputs": [
    {
     "name": "stdout",
     "output_type": "stream",
     "text": [
      "baris = 150\n",
      "kolom = 6\n"
     ]
    }
   ],
   "source": [
    "print('baris =', df.shape[0])\n",
    "print('kolom =',df.shape[1])"
   ]
  },
  {
   "cell_type": "markdown",
   "metadata": {},
   "source": [
    "- cek baris dupilkat"
   ]
  },
  {
   "cell_type": "code",
   "execution_count": 7,
   "metadata": {},
   "outputs": [
    {
     "data": {
      "text/plain": [
       "27"
      ]
     },
     "execution_count": 7,
     "metadata": {},
     "output_type": "execute_result"
    }
   ],
   "source": [
    "df.duplicated().sum().sum()"
   ]
  },
  {
   "cell_type": "markdown",
   "metadata": {},
   "source": [
    "27 data duplikat sehingga harus drop"
   ]
  },
  {
   "cell_type": "code",
   "execution_count": 8,
   "metadata": {},
   "outputs": [],
   "source": [
    "df = df.drop_duplicates(keep='first')"
   ]
  },
  {
   "cell_type": "code",
   "execution_count": 9,
   "metadata": {},
   "outputs": [
    {
     "data": {
      "text/plain": [
       "0"
      ]
     },
     "execution_count": 9,
     "metadata": {},
     "output_type": "execute_result"
    }
   ],
   "source": [
    "df.duplicated().sum().sum()"
   ]
  },
  {
   "cell_type": "code",
   "execution_count": 10,
   "metadata": {},
   "outputs": [
    {
     "data": {
      "text/plain": [
       "(123, 6)"
      ]
     },
     "execution_count": 10,
     "metadata": {},
     "output_type": "execute_result"
    }
   ],
   "source": [
    "df.shape"
   ]
  },
  {
   "cell_type": "markdown",
   "metadata": {},
   "source": [
    "hasil memiliki baris 123 data"
   ]
  },
  {
   "cell_type": "markdown",
   "metadata": {},
   "source": [
    "- cek missing value"
   ]
  },
  {
   "cell_type": "code",
   "execution_count": 11,
   "metadata": {},
   "outputs": [
    {
     "data": {
      "text/plain": [
       "nama           0\n",
       "harga          0\n",
       "penjual        0\n",
       "lokasi_toko    0\n",
       "terjual        0\n",
       "rating         0\n",
       "dtype: int64"
      ]
     },
     "execution_count": 11,
     "metadata": {},
     "output_type": "execute_result"
    }
   ],
   "source": [
    "df.isnull().sum()"
   ]
  },
  {
   "cell_type": "markdown",
   "metadata": {},
   "source": [
    "tidak ada mising value namun ada beberapa kolom adalah nol yang berarti seller baru atau produk belum terjual"
   ]
  },
  {
   "cell_type": "markdown",
   "metadata": {},
   "source": [
    "- Data cleaning"
   ]
  },
  {
   "cell_type": "code",
   "execution_count": 12,
   "metadata": {},
   "outputs": [
    {
     "data": {
      "text/html": [
       "<div>\n",
       "<style scoped>\n",
       "    .dataframe tbody tr th:only-of-type {\n",
       "        vertical-align: middle;\n",
       "    }\n",
       "\n",
       "    .dataframe tbody tr th {\n",
       "        vertical-align: top;\n",
       "    }\n",
       "\n",
       "    .dataframe thead th {\n",
       "        text-align: right;\n",
       "    }\n",
       "</style>\n",
       "<table border=\"1\" class=\"dataframe\">\n",
       "  <thead>\n",
       "    <tr style=\"text-align: right;\">\n",
       "      <th></th>\n",
       "      <th>nama</th>\n",
       "      <th>harga</th>\n",
       "      <th>penjual</th>\n",
       "      <th>lokasi_toko</th>\n",
       "      <th>terjual</th>\n",
       "      <th>rating</th>\n",
       "    </tr>\n",
       "  </thead>\n",
       "  <tbody>\n",
       "    <tr>\n",
       "      <th>0</th>\n",
       "      <td>Seblak Instan Ceu Nthien Khas Bandung Rasana N...</td>\n",
       "      <td>Rp17.000</td>\n",
       "      <td>Central Seblak Nusantara</td>\n",
       "      <td>Tangerang Selatan</td>\n",
       "      <td>2rb+ terjual</td>\n",
       "      <td>4.9</td>\n",
       "    </tr>\n",
       "    <tr>\n",
       "      <th>1</th>\n",
       "      <td>Seblak Beton 1kg Pedas Daun Jeruk / Seblak Ker...</td>\n",
       "      <td>Rp42.500</td>\n",
       "      <td>D&amp;R-9 collection</td>\n",
       "      <td>Bandung</td>\n",
       "      <td>0</td>\n",
       "      <td>0.0</td>\n",
       "    </tr>\n",
       "    <tr>\n",
       "      <th>2</th>\n",
       "      <td>GFS Seblak Basah Instan Original - Tinggal Sed...</td>\n",
       "      <td>Rp16.618</td>\n",
       "      <td>Lakoca Official Shop</td>\n",
       "      <td>Cimahi</td>\n",
       "      <td>100+ terjual</td>\n",
       "      <td>4.9</td>\n",
       "    </tr>\n",
       "    <tr>\n",
       "      <th>3</th>\n",
       "      <td>Seblak instant murah</td>\n",
       "      <td>Rp4.900</td>\n",
       "      <td>dapurbulbin</td>\n",
       "      <td>Bandung</td>\n",
       "      <td>0</td>\n",
       "      <td>0.0</td>\n",
       "    </tr>\n",
       "    <tr>\n",
       "      <th>4</th>\n",
       "      <td>3 BASO ACI FREE SEBLAK SAJODO SNACK &amp; FOOD</td>\n",
       "      <td>Rp61.999</td>\n",
       "      <td>Sajodo Snack &amp; Food</td>\n",
       "      <td>Tasikmalaya</td>\n",
       "      <td>40+ terjual</td>\n",
       "      <td>5.0</td>\n",
       "    </tr>\n",
       "  </tbody>\n",
       "</table>\n",
       "</div>"
      ],
      "text/plain": [
       "                                                nama     harga  \\\n",
       "0  Seblak Instan Ceu Nthien Khas Bandung Rasana N...  Rp17.000   \n",
       "1  Seblak Beton 1kg Pedas Daun Jeruk / Seblak Ker...  Rp42.500   \n",
       "2  GFS Seblak Basah Instan Original - Tinggal Sed...  Rp16.618   \n",
       "3                               Seblak instant murah   Rp4.900   \n",
       "4         3 BASO ACI FREE SEBLAK SAJODO SNACK & FOOD  Rp61.999   \n",
       "\n",
       "                    penjual        lokasi_toko       terjual  rating  \n",
       "0  Central Seblak Nusantara  Tangerang Selatan  2rb+ terjual     4.9  \n",
       "1          D&R-9 collection            Bandung             0     0.0  \n",
       "2      Lakoca Official Shop             Cimahi  100+ terjual     4.9  \n",
       "3               dapurbulbin            Bandung             0     0.0  \n",
       "4       Sajodo Snack & Food        Tasikmalaya   40+ terjual     5.0  "
      ]
     },
     "execution_count": 12,
     "metadata": {},
     "output_type": "execute_result"
    }
   ],
   "source": [
    "df.head()"
   ]
  },
  {
   "cell_type": "markdown",
   "metadata": {},
   "source": [
    "- cek data seller baru atau yang nilai penjualan 0"
   ]
  },
  {
   "cell_type": "code",
   "execution_count": 13,
   "metadata": {},
   "outputs": [
    {
     "name": "stdout",
     "output_type": "stream",
     "text": [
      "7 Data\n"
     ]
    },
    {
     "data": {
      "text/html": [
       "<div>\n",
       "<style scoped>\n",
       "    .dataframe tbody tr th:only-of-type {\n",
       "        vertical-align: middle;\n",
       "    }\n",
       "\n",
       "    .dataframe tbody tr th {\n",
       "        vertical-align: top;\n",
       "    }\n",
       "\n",
       "    .dataframe thead th {\n",
       "        text-align: right;\n",
       "    }\n",
       "</style>\n",
       "<table border=\"1\" class=\"dataframe\">\n",
       "  <thead>\n",
       "    <tr style=\"text-align: right;\">\n",
       "      <th></th>\n",
       "      <th>nama</th>\n",
       "      <th>harga</th>\n",
       "      <th>penjual</th>\n",
       "      <th>lokasi_toko</th>\n",
       "      <th>terjual</th>\n",
       "      <th>rating</th>\n",
       "    </tr>\n",
       "  </thead>\n",
       "  <tbody>\n",
       "    <tr>\n",
       "      <th>1</th>\n",
       "      <td>Seblak Beton 1kg Pedas Daun Jeruk / Seblak Ker...</td>\n",
       "      <td>Rp42.500</td>\n",
       "      <td>D&amp;R-9 collection</td>\n",
       "      <td>Bandung</td>\n",
       "      <td>0</td>\n",
       "      <td>0.0</td>\n",
       "    </tr>\n",
       "    <tr>\n",
       "      <th>3</th>\n",
       "      <td>Seblak instant murah</td>\n",
       "      <td>Rp4.900</td>\n",
       "      <td>dapurbulbin</td>\n",
       "      <td>Bandung</td>\n",
       "      <td>0</td>\n",
       "      <td>0.0</td>\n",
       "    </tr>\n",
       "    <tr>\n",
       "      <th>21</th>\n",
       "      <td>Cuanki lidah Toping baso aci seblak isi 5 pcs</td>\n",
       "      <td>Rp3.490</td>\n",
       "      <td>Grosir Putra Bdg</td>\n",
       "      <td>Kab. Bandung</td>\n",
       "      <td>0</td>\n",
       "      <td>0.0</td>\n",
       "    </tr>\n",
       "    <tr>\n",
       "      <th>30</th>\n",
       "      <td>SEBRING snack seblak kering kriuk</td>\n",
       "      <td>Rp26.000</td>\n",
       "      <td>snack darling</td>\n",
       "      <td>Kab. Bandung Barat</td>\n",
       "      <td>0</td>\n",
       "      <td>0.0</td>\n",
       "    </tr>\n",
       "    <tr>\n",
       "      <th>60</th>\n",
       "      <td>Seblak Kerupuk</td>\n",
       "      <td>Rp12.000</td>\n",
       "      <td>agen produk organik jkt</td>\n",
       "      <td>Jakarta Timur</td>\n",
       "      <td>0</td>\n",
       "      <td>0.0</td>\n",
       "    </tr>\n",
       "    <tr>\n",
       "      <th>62</th>\n",
       "      <td>Kerupuk Seblak Kering seblak Daun Jeruk dan se...</td>\n",
       "      <td>Rp15.000</td>\n",
       "      <td>Amelia jaya mart</td>\n",
       "      <td>Kab. Tangerang</td>\n",
       "      <td>0</td>\n",
       "      <td>0.0</td>\n",
       "    </tr>\n",
       "    <tr>\n",
       "      <th>137</th>\n",
       "      <td>Seblak instan Murah Enak</td>\n",
       "      <td>Rp3.800</td>\n",
       "      <td>Kedai_boci</td>\n",
       "      <td>Semarang</td>\n",
       "      <td>0</td>\n",
       "      <td>0.0</td>\n",
       "    </tr>\n",
       "  </tbody>\n",
       "</table>\n",
       "</div>"
      ],
      "text/plain": [
       "                                                  nama     harga  \\\n",
       "1    Seblak Beton 1kg Pedas Daun Jeruk / Seblak Ker...  Rp42.500   \n",
       "3                                 Seblak instant murah   Rp4.900   \n",
       "21       Cuanki lidah Toping baso aci seblak isi 5 pcs   Rp3.490   \n",
       "30                   SEBRING snack seblak kering kriuk  Rp26.000   \n",
       "60                                      Seblak Kerupuk  Rp12.000   \n",
       "62   Kerupuk Seblak Kering seblak Daun Jeruk dan se...  Rp15.000   \n",
       "137                           Seblak instan Murah Enak   Rp3.800   \n",
       "\n",
       "                     penjual         lokasi_toko terjual  rating  \n",
       "1           D&R-9 collection             Bandung       0     0.0  \n",
       "3                dapurbulbin             Bandung       0     0.0  \n",
       "21          Grosir Putra Bdg        Kab. Bandung       0     0.0  \n",
       "30             snack darling  Kab. Bandung Barat       0     0.0  \n",
       "60   agen produk organik jkt       Jakarta Timur       0     0.0  \n",
       "62          Amelia jaya mart      Kab. Tangerang       0     0.0  \n",
       "137               Kedai_boci            Semarang       0     0.0  "
      ]
     },
     "execution_count": 13,
     "metadata": {},
     "output_type": "execute_result"
    }
   ],
   "source": [
    "data_seller_baru = df[df['terjual'] == '0']\n",
    "print(data_seller_baru.shape[0], 'Data')\n",
    "data_seller_baru"
   ]
  },
  {
   "cell_type": "markdown",
   "metadata": {},
   "source": [
    "insight: Dilihat dari data tersebut penjual baru atau produk belum terjual diluar jabodetabek lebih banyak "
   ]
  },
  {
   "cell_type": "code",
   "execution_count": 14,
   "metadata": {},
   "outputs": [],
   "source": [
    "# drop data penjualan nol\n",
    "df.drop(df[df.values == '0'].index, inplace=True)"
   ]
  },
  {
   "cell_type": "code",
   "execution_count": 15,
   "metadata": {},
   "outputs": [],
   "source": [
    "# hapus tanda 'Rp' diubah jadi float\n",
    "df['harga'] = df['harga'].str.replace(pat='Rp', repl='', regex=True).astype(float)"
   ]
  },
  {
   "cell_type": "code",
   "execution_count": 16,
   "metadata": {},
   "outputs": [],
   "source": [
    "# hapus tanda yang tidak diperlukan di kolom terjual\n",
    "df['terjual'] = df['terjual'].str.replace('rb', '000').str.replace('+', '').str.replace('terjual', '')\n",
    "df['terjual'] = df['terjual'].astype(int)"
   ]
  },
  {
   "cell_type": "code",
   "execution_count": 17,
   "metadata": {},
   "outputs": [
    {
     "data": {
      "text/html": [
       "<div>\n",
       "<style scoped>\n",
       "    .dataframe tbody tr th:only-of-type {\n",
       "        vertical-align: middle;\n",
       "    }\n",
       "\n",
       "    .dataframe tbody tr th {\n",
       "        vertical-align: top;\n",
       "    }\n",
       "\n",
       "    .dataframe thead th {\n",
       "        text-align: right;\n",
       "    }\n",
       "</style>\n",
       "<table border=\"1\" class=\"dataframe\">\n",
       "  <thead>\n",
       "    <tr style=\"text-align: right;\">\n",
       "      <th></th>\n",
       "      <th>nama</th>\n",
       "      <th>harga</th>\n",
       "      <th>penjual</th>\n",
       "      <th>lokasi_toko</th>\n",
       "      <th>terjual</th>\n",
       "      <th>rating</th>\n",
       "    </tr>\n",
       "  </thead>\n",
       "  <tbody>\n",
       "    <tr>\n",
       "      <th>0</th>\n",
       "      <td>Seblak Instan Ceu Nthien Khas Bandung Rasana N...</td>\n",
       "      <td>17.000</td>\n",
       "      <td>Central Seblak Nusantara</td>\n",
       "      <td>Tangerang Selatan</td>\n",
       "      <td>2000</td>\n",
       "      <td>4.9</td>\n",
       "    </tr>\n",
       "    <tr>\n",
       "      <th>2</th>\n",
       "      <td>GFS Seblak Basah Instan Original - Tinggal Sed...</td>\n",
       "      <td>16.618</td>\n",
       "      <td>Lakoca Official Shop</td>\n",
       "      <td>Cimahi</td>\n",
       "      <td>100</td>\n",
       "      <td>4.9</td>\n",
       "    </tr>\n",
       "    <tr>\n",
       "      <th>4</th>\n",
       "      <td>3 BASO ACI FREE SEBLAK SAJODO SNACK &amp; FOOD</td>\n",
       "      <td>61.999</td>\n",
       "      <td>Sajodo Snack &amp; Food</td>\n",
       "      <td>Tasikmalaya</td>\n",
       "      <td>40</td>\n",
       "      <td>5.0</td>\n",
       "    </tr>\n",
       "    <tr>\n",
       "      <th>5</th>\n",
       "      <td>Seblak Rafael, Seblak Coet Instan Halal</td>\n",
       "      <td>25.000</td>\n",
       "      <td>Brother Meat Shop</td>\n",
       "      <td>Depok</td>\n",
       "      <td>250</td>\n",
       "      <td>5.0</td>\n",
       "    </tr>\n",
       "    <tr>\n",
       "      <th>6</th>\n",
       "      <td>Kylafood Seblak Rempah Autentik 115gr, Seblak ...</td>\n",
       "      <td>9.900</td>\n",
       "      <td>Brother Meat Shop</td>\n",
       "      <td>Depok</td>\n",
       "      <td>100</td>\n",
       "      <td>4.9</td>\n",
       "    </tr>\n",
       "  </tbody>\n",
       "</table>\n",
       "</div>"
      ],
      "text/plain": [
       "                                                nama   harga  \\\n",
       "0  Seblak Instan Ceu Nthien Khas Bandung Rasana N...  17.000   \n",
       "2  GFS Seblak Basah Instan Original - Tinggal Sed...  16.618   \n",
       "4         3 BASO ACI FREE SEBLAK SAJODO SNACK & FOOD  61.999   \n",
       "5            Seblak Rafael, Seblak Coet Instan Halal  25.000   \n",
       "6  Kylafood Seblak Rempah Autentik 115gr, Seblak ...   9.900   \n",
       "\n",
       "                    penjual        lokasi_toko  terjual  rating  \n",
       "0  Central Seblak Nusantara  Tangerang Selatan     2000     4.9  \n",
       "2      Lakoca Official Shop             Cimahi      100     4.9  \n",
       "4       Sajodo Snack & Food        Tasikmalaya       40     5.0  \n",
       "5         Brother Meat Shop              Depok      250     5.0  \n",
       "6         Brother Meat Shop              Depok      100     4.9  "
      ]
     },
     "execution_count": 17,
     "metadata": {},
     "output_type": "execute_result"
    }
   ],
   "source": [
    "df.head()"
   ]
  },
  {
   "cell_type": "code",
   "execution_count": 18,
   "metadata": {},
   "outputs": [
    {
     "name": "stdout",
     "output_type": "stream",
     "text": [
      "<class 'pandas.core.frame.DataFrame'>\n",
      "Index: 116 entries, 0 to 149\n",
      "Data columns (total 6 columns):\n",
      " #   Column       Non-Null Count  Dtype  \n",
      "---  ------       --------------  -----  \n",
      " 0   nama         116 non-null    object \n",
      " 1   harga        116 non-null    float64\n",
      " 2   penjual      116 non-null    object \n",
      " 3   lokasi_toko  116 non-null    object \n",
      " 4   terjual      116 non-null    int32  \n",
      " 5   rating       116 non-null    float64\n",
      "dtypes: float64(2), int32(1), object(3)\n",
      "memory usage: 5.9+ KB\n"
     ]
    }
   ],
   "source": [
    "df.info()"
   ]
  },
  {
   "cell_type": "markdown",
   "metadata": {},
   "source": [
    "> ### Data sudah dibersihkan dan dirubah tipe datanya sesuai konteks data"
   ]
  },
  {
   "cell_type": "markdown",
   "metadata": {},
   "source": [
    "## Ringkasan informasi data\n",
    "> - Memiliki 116 baris dan 6 kolom \n",
    "> - Memiliki type data 2 float, 1 int dan 3 object\n",
    "> - data 0 di drop\n"
   ]
  },
  {
   "cell_type": "markdown",
   "metadata": {},
   "source": [
    "# C. Memahami Bisnis Atau Problem Statement"
   ]
  },
  {
   "cell_type": "markdown",
   "metadata": {},
   "source": [
    "---"
   ]
  },
  {
   "cell_type": "markdown",
   "metadata": {},
   "source": [
    "## Problem Statement\n",
    "\n",
    "> saya ingin menambah pendatapatan dengan pejualan, namun biaya modal tidak mencukupi sehingga memilih skema dropship di toko online tokopedia.  \n",
    "sebagai dropshipper seblak yang sedang trend akan tetapi ragu apakah dapat menguntungkan atau tidak."
   ]
  },
  {
   "cell_type": "markdown",
   "metadata": {},
   "source": [
    "## SMART"
   ]
  },
  {
   "cell_type": "markdown",
   "metadata": {},
   "source": [
    "- Spesific\n",
    "> Mencari tahu potensi penjualan produk seblak di berbagai merchant dalam hal keuntungan dan kerugian di setiap bulan\n"
   ]
  },
  {
   "cell_type": "markdown",
   "metadata": {},
   "source": [
    "- Measurable\n",
    "> Menargetkan penjualan produk >= 50 disetiap bulan "
   ]
  },
  {
   "cell_type": "markdown",
   "metadata": {},
   "source": [
    "- Achievable\n",
    "> melakukan analisa disetiap marchant dengan men-scrapping data di tokopedia\n"
   ]
  },
  {
   "cell_type": "markdown",
   "metadata": {},
   "source": [
    "- Relevant\n",
    "> mendapatkan tambahan penghasilan di tiap bulan tanpa harus mengeluarkan modal yang besar karena dropship  \n",
    "dan menghilangkan keraguan dalam menjalankan toko"
   ]
  },
  {
   "cell_type": "markdown",
   "metadata": {},
   "source": [
    "- Time-bound\n",
    "> Menetapkan target waktu dalam 3 minggu untuk menganalisa dan menjalankan toko di minggu berikutnya"
   ]
  },
  {
   "cell_type": "markdown",
   "metadata": {},
   "source": [
    "- Ringakasan\n",
    "> meningkatkan pendapatan dengan berjualan seblak di tokopedia dalam skema dropship.  \n",
    " dengan setiap bulannya penjualan >= 50 dan menetapkan target menjalankan toko dalam 4 minggu"
   ]
  },
  {
   "cell_type": "markdown",
   "metadata": {},
   "source": [
    "# D. Analisis Data"
   ]
  },
  {
   "cell_type": "markdown",
   "metadata": {},
   "source": [
    "---"
   ]
  },
  {
   "cell_type": "markdown",
   "metadata": {},
   "source": [
    "- ### Menghitung rata-rata, median, dan standar deviasi dari kolom harga, kolom terjual, dan kolom rating"
   ]
  },
  {
   "cell_type": "code",
   "execution_count": 19,
   "metadata": {},
   "outputs": [
    {
     "data": {
      "text/html": [
       "<div>\n",
       "<style scoped>\n",
       "    .dataframe tbody tr th:only-of-type {\n",
       "        vertical-align: middle;\n",
       "    }\n",
       "\n",
       "    .dataframe tbody tr th {\n",
       "        vertical-align: top;\n",
       "    }\n",
       "\n",
       "    .dataframe thead th {\n",
       "        text-align: right;\n",
       "    }\n",
       "</style>\n",
       "<table border=\"1\" class=\"dataframe\">\n",
       "  <thead>\n",
       "    <tr style=\"text-align: right;\">\n",
       "      <th></th>\n",
       "      <th>harga</th>\n",
       "      <th>terjual</th>\n",
       "      <th>rating</th>\n",
       "    </tr>\n",
       "  </thead>\n",
       "  <tbody>\n",
       "    <tr>\n",
       "      <th>mean</th>\n",
       "      <td>23.197862</td>\n",
       "      <td>566.094828</td>\n",
       "      <td>4.814655</td>\n",
       "    </tr>\n",
       "    <tr>\n",
       "      <th>median</th>\n",
       "      <td>15.250000</td>\n",
       "      <td>100.000000</td>\n",
       "      <td>4.900000</td>\n",
       "    </tr>\n",
       "    <tr>\n",
       "      <th>std</th>\n",
       "      <td>25.914500</td>\n",
       "      <td>1581.454790</td>\n",
       "      <td>0.507724</td>\n",
       "    </tr>\n",
       "  </tbody>\n",
       "</table>\n",
       "</div>"
      ],
      "text/plain": [
       "            harga      terjual    rating\n",
       "mean    23.197862   566.094828  4.814655\n",
       "median  15.250000   100.000000  4.900000\n",
       "std     25.914500  1581.454790  0.507724"
      ]
     },
     "execution_count": 19,
     "metadata": {},
     "output_type": "execute_result"
    }
   ],
   "source": [
    "df[['harga', 'terjual', 'rating']].agg(['mean', 'median', 'std'])"
   ]
  },
  {
   "cell_type": "markdown",
   "metadata": {},
   "source": [
    "> - pada kolom harga memiliki rata-rata harga Rp 23.197, median Rp 15.250, dan std 25.9.  \n",
    "insight : dilihat dari nilai std dan rata-rata hampir mendekati std data lebih condong ke std\n",
    "\n",
    "> - pada kolom terjual memiliki rata-rata 566 produk, median 100, dan std 1581.4  \n",
    "insight: menyimpulkan bahwa variasi yang sangat besar\n",
    "\n",
    "> - pada kolom rating memiliki rata-rata 4.8, median 4.9, dan std 0.5  \n",
    "insight: dapat disimpulkan bahawa variasi nya kecil, data lebih condong ke median dan rata-rata"
   ]
  },
  {
   "cell_type": "markdown",
   "metadata": {},
   "source": [
    "- ### Skewness "
   ]
  },
  {
   "cell_type": "code",
   "execution_count": 20,
   "metadata": {},
   "outputs": [
    {
     "data": {
      "text/html": [
       "<div>\n",
       "<style scoped>\n",
       "    .dataframe tbody tr th:only-of-type {\n",
       "        vertical-align: middle;\n",
       "    }\n",
       "\n",
       "    .dataframe tbody tr th {\n",
       "        vertical-align: top;\n",
       "    }\n",
       "\n",
       "    .dataframe thead th {\n",
       "        text-align: right;\n",
       "    }\n",
       "</style>\n",
       "<table border=\"1\" class=\"dataframe\">\n",
       "  <thead>\n",
       "    <tr style=\"text-align: right;\">\n",
       "      <th></th>\n",
       "      <th>skewnes</th>\n",
       "    </tr>\n",
       "  </thead>\n",
       "  <tbody>\n",
       "    <tr>\n",
       "      <th>harga</th>\n",
       "      <td>2.849512</td>\n",
       "    </tr>\n",
       "    <tr>\n",
       "      <th>terjual</th>\n",
       "      <td>4.599239</td>\n",
       "    </tr>\n",
       "    <tr>\n",
       "      <th>rating</th>\n",
       "      <td>-7.982875</td>\n",
       "    </tr>\n",
       "  </tbody>\n",
       "</table>\n",
       "</div>"
      ],
      "text/plain": [
       "          skewnes\n",
       "harga    2.849512\n",
       "terjual  4.599239\n",
       "rating  -7.982875"
      ]
     },
     "execution_count": 20,
     "metadata": {},
     "output_type": "execute_result"
    }
   ],
   "source": [
    "# buat series data skewnes\n",
    "skewnes = df[['harga','terjual','rating']].skew()\n",
    "skewnes.to_frame(name='skewnes')"
   ]
  },
  {
   "cell_type": "markdown",
   "metadata": {},
   "source": [
    ">Insight:\n",
    ">- Skewness pada kolom harga menunjukan bahwa distribusi `positive Skew` dan merupakan highly skewed. skewness > 1\n",
    "\n",
    ">- Skewness pada kolom terjual menunjukan bahwa distribusi `positive Skew`sama highly skewed. skewness > 1\n",
    "\n",
    ">- berbeda dengan dua kolom di atas ini termasuk `negative Skewed` dan merupakan highly skewed . skewness> -1\n",
    "\n",
    ">- dari data di atas semuanya highly skew dan data distribusi lebih condong ke kiri karane -7.9 adalah ekor terbesarnya sehingga di sebut `Negative skew`\n",
    "\n",
    "> catatan outlier nya besar\n"
   ]
  },
  {
   "cell_type": "markdown",
   "metadata": {},
   "source": [
    "- ### Kurtosis "
   ]
  },
  {
   "cell_type": "code",
   "execution_count": 21,
   "metadata": {},
   "outputs": [
    {
     "data": {
      "text/html": [
       "<div>\n",
       "<style scoped>\n",
       "    .dataframe tbody tr th:only-of-type {\n",
       "        vertical-align: middle;\n",
       "    }\n",
       "\n",
       "    .dataframe tbody tr th {\n",
       "        vertical-align: top;\n",
       "    }\n",
       "\n",
       "    .dataframe thead th {\n",
       "        text-align: right;\n",
       "    }\n",
       "</style>\n",
       "<table border=\"1\" class=\"dataframe\">\n",
       "  <thead>\n",
       "    <tr style=\"text-align: right;\">\n",
       "      <th></th>\n",
       "      <th>kurtosis</th>\n",
       "    </tr>\n",
       "  </thead>\n",
       "  <tbody>\n",
       "    <tr>\n",
       "      <th>harga</th>\n",
       "      <td>8.895571</td>\n",
       "    </tr>\n",
       "    <tr>\n",
       "      <th>terjual</th>\n",
       "      <td>23.176418</td>\n",
       "    </tr>\n",
       "    <tr>\n",
       "      <th>rating</th>\n",
       "      <td>72.577019</td>\n",
       "    </tr>\n",
       "  </tbody>\n",
       "</table>\n",
       "</div>"
      ],
      "text/plain": [
       "          kurtosis\n",
       "harga     8.895571\n",
       "terjual  23.176418\n",
       "rating   72.577019"
      ]
     },
     "execution_count": 21,
     "metadata": {},
     "output_type": "execute_result"
    }
   ],
   "source": [
    "# buat series kurtosis\n",
    "kurtos = df[['harga','terjual','rating']].kurtosis()\n",
    "kurtos.to_frame(name='kurtosis')"
   ]
  },
  {
   "cell_type": "markdown",
   "metadata": {},
   "source": [
    "Insight:\n",
    "\n",
    "> - kolom harga memiliki nilai tinggi sehingga ini termasuk `leptokurtik`\n",
    "> - kolom terjual juga sama memiliki nilai tinggi termasuk `leptokurtik`\n",
    "> - kolom rating sama nilai tinggi termasuk `leptokurtik `  \n",
    ">memiliki outlier cukup besar"
   ]
  },
  {
   "cell_type": "code",
   "execution_count": 22,
   "metadata": {},
   "outputs": [
    {
     "data": {
      "text/html": [
       "<div>\n",
       "<style scoped>\n",
       "    .dataframe tbody tr th:only-of-type {\n",
       "        vertical-align: middle;\n",
       "    }\n",
       "\n",
       "    .dataframe tbody tr th {\n",
       "        vertical-align: top;\n",
       "    }\n",
       "\n",
       "    .dataframe thead th {\n",
       "        text-align: right;\n",
       "    }\n",
       "</style>\n",
       "<table border=\"1\" class=\"dataframe\">\n",
       "  <thead>\n",
       "    <tr style=\"text-align: right;\">\n",
       "      <th></th>\n",
       "      <th>harga</th>\n",
       "      <th>terjual</th>\n",
       "      <th>rating</th>\n",
       "    </tr>\n",
       "  </thead>\n",
       "  <tbody>\n",
       "    <tr>\n",
       "      <th>count</th>\n",
       "      <td>116.000000</td>\n",
       "      <td>116.000000</td>\n",
       "      <td>116.000000</td>\n",
       "    </tr>\n",
       "    <tr>\n",
       "      <th>mean</th>\n",
       "      <td>23.197862</td>\n",
       "      <td>566.094828</td>\n",
       "      <td>4.814655</td>\n",
       "    </tr>\n",
       "    <tr>\n",
       "      <th>std</th>\n",
       "      <td>25.914500</td>\n",
       "      <td>1581.454790</td>\n",
       "      <td>0.507724</td>\n",
       "    </tr>\n",
       "    <tr>\n",
       "      <th>min</th>\n",
       "      <td>2.340000</td>\n",
       "      <td>1.000000</td>\n",
       "      <td>0.000000</td>\n",
       "    </tr>\n",
       "    <tr>\n",
       "      <th>25%</th>\n",
       "      <td>8.945000</td>\n",
       "      <td>25.750000</td>\n",
       "      <td>4.800000</td>\n",
       "    </tr>\n",
       "    <tr>\n",
       "      <th>50%</th>\n",
       "      <td>15.250000</td>\n",
       "      <td>100.000000</td>\n",
       "      <td>4.900000</td>\n",
       "    </tr>\n",
       "    <tr>\n",
       "      <th>75%</th>\n",
       "      <td>26.193750</td>\n",
       "      <td>250.000000</td>\n",
       "      <td>5.000000</td>\n",
       "    </tr>\n",
       "    <tr>\n",
       "      <th>max</th>\n",
       "      <td>145.000000</td>\n",
       "      <td>10000.000000</td>\n",
       "      <td>5.000000</td>\n",
       "    </tr>\n",
       "    <tr>\n",
       "      <th>skewness</th>\n",
       "      <td>2.849512</td>\n",
       "      <td>4.599239</td>\n",
       "      <td>-7.982875</td>\n",
       "    </tr>\n",
       "    <tr>\n",
       "      <th>kurtosis</th>\n",
       "      <td>8.895571</td>\n",
       "      <td>23.176418</td>\n",
       "      <td>72.577019</td>\n",
       "    </tr>\n",
       "    <tr>\n",
       "      <th>modus</th>\n",
       "      <td>5.000000</td>\n",
       "      <td>100.000000</td>\n",
       "      <td>5.000000</td>\n",
       "    </tr>\n",
       "  </tbody>\n",
       "</table>\n",
       "</div>"
      ],
      "text/plain": [
       "               harga       terjual      rating\n",
       "count     116.000000    116.000000  116.000000\n",
       "mean       23.197862    566.094828    4.814655\n",
       "std        25.914500   1581.454790    0.507724\n",
       "min         2.340000      1.000000    0.000000\n",
       "25%         8.945000     25.750000    4.800000\n",
       "50%        15.250000    100.000000    4.900000\n",
       "75%        26.193750    250.000000    5.000000\n",
       "max       145.000000  10000.000000    5.000000\n",
       "skewness    2.849512      4.599239   -7.982875\n",
       "kurtosis    8.895571     23.176418   72.577019\n",
       "modus       5.000000    100.000000    5.000000"
      ]
     },
     "execution_count": 22,
     "metadata": {},
     "output_type": "execute_result"
    }
   ],
   "source": [
    "# membuat tabel Statistik\n",
    "stat = df.describe()\n",
    "# skew dan kurto di gabung\n",
    "normTestFrame = pd.DataFrame([skewnes,kurtos]).rename(index={0:'skewness', 1:'kurtosis'})\n",
    "# modus\n",
    "mode = df[['harga','terjual','rating']].mode().rename(index={0:'modus'})\n",
    "\n",
    "stat = pd.concat([stat,normTestFrame,mode],ignore_index=False)\n",
    "\n",
    "stat"
   ]
  },
  {
   "cell_type": "markdown",
   "metadata": {},
   "source": [
    "## Ringkasan \n",
    "- jumlah data 116\n",
    "- rata - rata di kolom harga `23rb` , rata-rata di kolom terjual` 566 `produk, dan untuk rating` 4.8`\n",
    "- untuk standar deviasi kolom terjual cukup besar data sebarannya berbeda dengan rating yang memiliki data cukup serupa\n",
    "- harga maksimum` 145.000 `harga minimum `2.340 `\n",
    "- penjualan paling tinggi `10000` dan penjualan terkecil `1`\n",
    "- Untuk Skewness data lebih condong ke kiri artinya `Negative skew` dan kolom rating memiliki data dominan\n",
    "- kurtosis memiliki nilai tinggi artinya `leptokurtic` sehingga data dominan di rating juga\n",
    "- modus harga adalah 5000, penjualan 100, dan rating 5.0"
   ]
  },
  {
   "cell_type": "markdown",
   "metadata": {},
   "source": [
    "## Test Normalitas"
   ]
  },
  {
   "cell_type": "markdown",
   "metadata": {},
   "source": [
    "##### D’Agostino’s K^2   \n",
    "\n",
    "Catatan: Jika p-value lebih dari 0.05, data memiliki distribusi normal"
   ]
  },
  {
   "cell_type": "code",
   "execution_count": 23,
   "metadata": {},
   "outputs": [
    {
     "name": "stdout",
     "output_type": "stream",
     "text": [
      "p-value harga: 3.490996153694984e-20\n",
      "p-value terjual: 1.609242786092678e-31\n",
      "p-value rating: 9.369690606739295e-47\n"
     ]
    }
   ],
   "source": [
    "hargatest = stats.normaltest(df['harga']).pvalue\n",
    "terjualtest = stats.normaltest(df['terjual']).pvalue\n",
    "ratingtest = stats.normaltest(df['rating']).pvalue\n",
    "\n",
    "\n",
    "print(f'p-value harga: {hargatest}')\n",
    "print(f'p-value terjual: {terjualtest}')\n",
    "print(f'p-value rating: {ratingtest}')\n"
   ]
  },
  {
   "cell_type": "markdown",
   "metadata": {},
   "source": [
    "Dalam D’Agostino’s K^2 Test, semua data memiliki distribusi normal"
   ]
  },
  {
   "cell_type": "markdown",
   "metadata": {},
   "source": [
    "#### Shapiro-Wilk Test  \n",
    "Catatan: Jika p-value lebih dari 0.05, data memiliki distribusi normal"
   ]
  },
  {
   "cell_type": "code",
   "execution_count": 24,
   "metadata": {},
   "outputs": [
    {
     "name": "stdout",
     "output_type": "stream",
     "text": [
      "p-value harga: 4.547147723052468e-15\n",
      "p-value terjual: 5.117685024274034e-20\n",
      "p-value rating: 3.70940623477274e-21\n"
     ]
    }
   ],
   "source": [
    "hargatest = stats.shapiro(df['harga']).pvalue\n",
    "terjualtest = stats.shapiro(df['terjual']).pvalue\n",
    "ratingtest = stats.shapiro(df['rating']).pvalue\n",
    "\n",
    "print(f'p-value harga: {hargatest}')\n",
    "print(f'p-value terjual: {terjualtest}')\n",
    "print(f'p-value rating: {ratingtest}')"
   ]
  },
  {
   "cell_type": "markdown",
   "metadata": {},
   "source": [
    "Dalam Shapiro Wilk test, semua data memiliki distribusi normal"
   ]
  },
  {
   "cell_type": "markdown",
   "metadata": {},
   "source": [
    "#### Cek outlier  \n",
    "karena skewness lebih dari 0.5, maka pencarian outlier menggunakan Tukey's rule"
   ]
  },
  {
   "cell_type": "markdown",
   "metadata": {},
   "source": [
    "#### Tukey's Rule"
   ]
  },
  {
   "cell_type": "code",
   "execution_count": 25,
   "metadata": {},
   "outputs": [
    {
     "name": "stdout",
     "output_type": "stream",
     "text": [
      "Persen Harga outliers: 7.76%\n",
      "persen terjual outliers: 17.24%\n",
      "persen rating outliers: 8.62%\n"
     ]
    }
   ],
   "source": [
    "# Mengambil data quantile 25% dan 75% di kolom harga, terjual dan rating \n",
    "q1 = stat.T['25%']\n",
    "q3 = stat.T['75%']\n",
    "iqr = q3-q1\n",
    "\n",
    "# mencari upper boundary dan lower boundary\n",
    "upperBound = q3 + 1.5*iqr\n",
    "lowerBound = q3 - 1.5*iqr\n",
    "\n",
    "# outlier\n",
    "outlier_harga = df['harga'][(df['harga']<lowerBound['harga'])|(df['harga']>upperBound['harga'])].copy()\n",
    "outlier_terjual = df['terjual'][(df['terjual']<lowerBound['terjual'])|(df['terjual']>upperBound['terjual'])].copy()\n",
    "outlier_rating = df['rating'][(df['rating']<lowerBound['rating'])|(df['rating']>upperBound['rating'])].copy()\n",
    "\n",
    "\n",
    "\n",
    "# persentase outlier\n",
    "persen_harga = len(outlier_harga)*100/len(df['harga'])\n",
    "persen_terjual = len(outlier_terjual)*100/len(df['terjual'])\n",
    "persen_rating = len(outlier_rating)*100/len(df['rating'])\n",
    "\n",
    "print(f'Persen Harga outliers: {persen_harga:.2f}%')\n",
    "print(f'persen terjual outliers: {persen_terjual:.2f}%')\n",
    "print(f'persen rating outliers: {persen_rating:.2f}%')"
   ]
  },
  {
   "cell_type": "markdown",
   "metadata": {},
   "source": [
    "Dilihat dari data di atas penjualan atau kolom terjual memiliki outlier terbesar di ikuti rating dan harga yang hampir sama,  \n",
    "artinya penjualan memilliki perbedaan data signifikan dengan rating dan harga"
   ]
  },
  {
   "cell_type": "markdown",
   "metadata": {},
   "source": [
    "## Melihat Potensi penjualan Seblak"
   ]
  },
  {
   "cell_type": "markdown",
   "metadata": {},
   "source": [
    "mengambil sempel dari data terjual dengan confidence level = 95%"
   ]
  },
  {
   "cell_type": "markdown",
   "metadata": {},
   "source": [
    "### Mencari Lower Bound dan Upper Bound"
   ]
  },
  {
   "cell_type": "code",
   "execution_count": 26,
   "metadata": {},
   "outputs": [
    {
     "name": "stdout",
     "output_type": "stream",
     "text": [
      "lower_bound terjual : 278\n",
      "upper_bound terjual : 854\n"
     ]
    }
   ],
   "source": [
    "std = df['terjual'].std()\n",
    "N = len(df['terjual'])\n",
    "\n",
    "low_terjual, up_terjual = stats.norm.interval(0.95, loc=df['terjual'].mean(),scale=std/np.sqrt(N))\n",
    "\n",
    "print(f'lower_bound terjual : {round(low_terjual)}')\n",
    "print(f'upper_bound terjual : {round(up_terjual)}')"
   ]
  },
  {
   "cell_type": "markdown",
   "metadata": {},
   "source": [
    "Dari data tersebut, dapat diketahui estimasi keuntungan dalam penjualan seblak berkisar dari 278 sampai 854 produk terjual.\n"
   ]
  },
  {
   "cell_type": "markdown",
   "metadata": {},
   "source": [
    "# Perbandingan Harga di Jabodetabek dan di Luar Jabodetabek"
   ]
  },
  {
   "cell_type": "markdown",
   "metadata": {},
   "source": [
    "## Hipotesis test\n"
   ]
  },
  {
   "cell_type": "markdown",
   "metadata": {},
   "source": [
    "Dikatakan bahwa ada kemungkinan harga seblak di jabodetabek dan di luar jabodetabek berbeda dikarenakan perbedaan harga bahan baku pembuatannya  \n",
    "\n",
    "\n",
    "Hipotesis:\n",
    "- H0: Harga seblak di Jabodetabek dan di luar Jabodetabek sama (rata-rata1 == rata-rata2)\n",
    "- H1: Harga seblak di Jabodetabek dan di luar Jabodetabek Berbeda (rata-rata1 != rata-rata2)  \n",
    "\n",
    "\n",
    "Metode:\n",
    "- Pengujian Langsung\n",
    "- Pengujian membandingkan rata-rata\n",
    "- Pengujian Single Sample T-Test\n"
   ]
  },
  {
   "cell_type": "markdown",
   "metadata": {},
   "source": [
    "### Membuat data Jabodetabek dan luar Jabodetabek\n",
    "\n"
   ]
  },
  {
   "cell_type": "code",
   "execution_count": 27,
   "metadata": {},
   "outputs": [
    {
     "data": {
      "text/plain": [
       "[58, 58]"
      ]
     },
     "execution_count": 27,
     "metadata": {},
     "output_type": "execute_result"
    }
   ],
   "source": [
    "# list data Jabodetabek \n",
    "lokasi = ['jakarta','bogor','depok','tangerang','bekasi']\n",
    "\n",
    "# Membuat data kosong untuk harga di Jabodetabek dan di luar Jabodetabek\n",
    "dataLok = []\n",
    "dataLuar = []\n",
    "\n",
    "\n",
    "# Loop melalui setiap baris dalam DataFrame\n",
    "for index, row in df.iterrows():\n",
    "    # Ubah lokasi toko menjadi lowercase untuk pencocokan yang tidak peka terhadap huruf besar kecil\n",
    "    lokasi_toko_lower = row['lokasi_toko'].lower()\n",
    "    # Cek apakah lokasi toko ada dalam list lokasi\n",
    "    if any(lok in lokasi_toko_lower for lok in lokasi):\n",
    "        # Jika ada, tambahkan data ke dataLok\n",
    "        dataLok.append([row['harga'], row['lokasi_toko']])\n",
    "    else:\n",
    "        # Jika tidak, tambahkan data ke dataLuar\n",
    "        dataLuar.append([row['harga'], row['lokasi_toko']])\n",
    "\n",
    "\n",
    "# membuat frame data perbedaan jobodetabek dan luar jabodetabek\n",
    "datalok = pd.DataFrame(dataLok).rename(columns={0:'harga',1:'jabodetabek'})\n",
    "dataluar = pd.DataFrame(dataLuar).rename(columns={0:'harga',1:'di_luar_jabodetabek'})\n",
    "\n",
    "\n",
    "\n",
    "# cek panjang data dari perbdaan wilayah\n",
    "[len(dataLok),len(dataLuar)]\n"
   ]
  },
  {
   "cell_type": "markdown",
   "metadata": {},
   "source": [
    "Di lihat dari panjang data di wilayah jabodetabek dan diliaur wilayah jabodetabek sama"
   ]
  },
  {
   "cell_type": "code",
   "execution_count": 28,
   "metadata": {},
   "outputs": [
    {
     "data": {
      "text/plain": [
       "0    11.0\n",
       "1    15.0\n",
       "2    18.0\n",
       "Name: harga, dtype: float64"
      ]
     },
     "execution_count": 28,
     "metadata": {},
     "output_type": "execute_result"
    }
   ],
   "source": [
    "# modus data harga jabodetabek\n",
    "datalok['harga'].mode()"
   ]
  },
  {
   "cell_type": "markdown",
   "metadata": {},
   "source": [
    "mengingat data harga jobodetabek lebih konsisten"
   ]
  },
  {
   "cell_type": "code",
   "execution_count": 29,
   "metadata": {},
   "outputs": [
    {
     "data": {
      "text/plain": [
       "0    5.0\n",
       "Name: harga, dtype: float64"
      ]
     },
     "execution_count": 29,
     "metadata": {},
     "output_type": "execute_result"
    }
   ],
   "source": [
    "# modus harga di luar jabodetabek\n",
    "dataluar['harga'].mode()"
   ]
  },
  {
   "cell_type": "markdown",
   "metadata": {},
   "source": [
    "harga di luar jabodetabek cukup bervariasi yang sering muncull disini 5000"
   ]
  },
  {
   "cell_type": "code",
   "execution_count": 30,
   "metadata": {},
   "outputs": [
    {
     "data": {
      "text/plain": [
       "19.385827586206894"
      ]
     },
     "execution_count": 30,
     "metadata": {},
     "output_type": "execute_result"
    }
   ],
   "source": [
    "# rata-rata harga di jabodetek\n",
    "datalok['harga'].mean()"
   ]
  },
  {
   "cell_type": "code",
   "execution_count": 31,
   "metadata": {},
   "outputs": [
    {
     "data": {
      "text/plain": [
       "27.009896551724136"
      ]
     },
     "execution_count": 31,
     "metadata": {},
     "output_type": "execute_result"
    }
   ],
   "source": [
    "# rata-rata harga di luar jabodetabek \n",
    "dataluar['harga'].mean()"
   ]
  },
  {
   "cell_type": "code",
   "execution_count": 32,
   "metadata": {},
   "outputs": [
    {
     "name": "stdout",
     "output_type": "stream",
     "text": [
      "145.0\n",
      "3.1\n"
     ]
    }
   ],
   "source": [
    "print(datalok['harga'].max())\n",
    "print(datalok['harga'].min())"
   ]
  },
  {
   "cell_type": "markdown",
   "metadata": {},
   "source": [
    "harga max dan min dijabodetabek sangat besar perbadaan nya"
   ]
  },
  {
   "cell_type": "code",
   "execution_count": 33,
   "metadata": {},
   "outputs": [
    {
     "name": "stdout",
     "output_type": "stream",
     "text": [
      "127.88\n",
      "2.34\n"
     ]
    }
   ],
   "source": [
    "print(dataluar['harga'].max())\n",
    "print(dataluar['harga'].min())"
   ]
  },
  {
   "cell_type": "markdown",
   "metadata": {},
   "source": [
    "sama dengan harga max dan min besar perbedaanya"
   ]
  },
  {
   "cell_type": "markdown",
   "metadata": {},
   "source": [
    "---\n",
    "### Pengujian hipotesis secara langsung"
   ]
  },
  {
   "cell_type": "code",
   "execution_count": 34,
   "metadata": {},
   "outputs": [
    {
     "name": "stdout",
     "output_type": "stream",
     "text": [
      "\n",
      "      Banyak barang yang harganya sama di antara jabodetabek dan luar jabodetabek: 2\n",
      "      \n",
      "      Banyak barang yang harganya berbeda di antara jabodetabek dan luar jabodetabek: 56\n",
      "      \n",
      "      Banyak barang yang mana harga di jabodetabek lebih dari luar jabodetabek: 22\n",
      "      \n",
      "      Banyak barang yang mana harga di jabodetabek kurang dari luar jabodetabek: 34\n",
      "      \n"
     ]
    }
   ],
   "source": [
    "# Mencari harga sama dan harga berbeda\n",
    "harga_sama = datalok['harga'].values == dataluar['harga'].values\n",
    "harga_beda = datalok['harga'].values != dataluar['harga'].values\n",
    "# Mencari harga yang kurang dan lebih dari jabodetabek\n",
    "jabode = datalok['harga'].values > dataluar['harga'].values\n",
    "luar_jabode = datalok['harga'].values < dataluar['harga'].values\n",
    "\n",
    "print(f\"\"\"\n",
    "      Banyak barang yang harganya sama di antara jabodetabek dan luar jabodetabek: {harga_sama.sum()}\n",
    "      \n",
    "      Banyak barang yang harganya berbeda di antara jabodetabek dan luar jabodetabek: {harga_beda.sum()}\n",
    "      \n",
    "      Banyak barang yang mana harga di jabodetabek lebih dari luar jabodetabek: {jabode.sum()}\n",
    "      \n",
    "      Banyak barang yang mana harga di jabodetabek kurang dari luar jabodetabek: {luar_jabode.sum()}\n",
    "      \"\"\"\n",
    "    )\n",
    "\n",
    "\n",
    "# cek dataframe\n",
    "# datalok\n",
    "# dataluar"
   ]
  },
  {
   "cell_type": "markdown",
   "metadata": {},
   "source": [
    "#### Dapat di simpulkan H1 benar, karena harga berbeda diantara jabodetabek dan di luar jabodetabek. dari segi harga di luar jobodetabek lebih tinggi "
   ]
  },
  {
   "cell_type": "markdown",
   "metadata": {},
   "source": [
    "---\n",
    "### Pengujian hipotesis dengan membandingkan rata-rata"
   ]
  },
  {
   "cell_type": "code",
   "execution_count": 35,
   "metadata": {},
   "outputs": [
    {
     "name": "stdout",
     "output_type": "stream",
     "text": [
      "\n",
      "      Rata-rata harga seblak di Jabodetabek: 19.385827586206894,\n",
      "      \n",
      "      Rata-rata harga seblak di luar Jabodetabek: 27.009896551724136,\n",
      "\n",
      "      Banyaknya seblak di Jabodetabek: 58,\n",
      "\n",
      "      Banyaknya seblak di Luar Jabodetabek: 58,\n",
      "\n",
      "      Simpangan baku harga seblak di Jabodetabek: 24.164150908074642,\n",
      "\n",
      "      Simpangan baku harga di Luar Jabodetabek: 26.806241050642676,\n",
      "\n",
      "      H0 Terpenuhi : False,\n",
      "\n",
      "      H1 Terpenuhi : True\n",
      "      \n"
     ]
    }
   ],
   "source": [
    "# Mencari data statistik dan mengoutputnya\n",
    "\n",
    "mean_lok = np.mean(datalok['harga']) # harga di Jabodetabek\n",
    "mean_luar = np.mean(dataluar['harga']) # harga di luar Jabodetabek\n",
    "N_lok = len(datalok)\n",
    "N_luar = len(dataluar)\n",
    "std_lok = np.std(datalok['harga'])\n",
    "std_luar = np.std(dataluar['harga'])\n",
    "\n",
    "print(f'''\n",
    "      Rata-rata harga seblak di Jabodetabek: {mean_lok},\n",
    "      \n",
    "      Rata-rata harga seblak di luar Jabodetabek: {mean_luar},\n",
    "\n",
    "      Banyaknya seblak di Jabodetabek: {N_lok},\n",
    "\n",
    "      Banyaknya seblak di Luar Jabodetabek: {N_lok},\n",
    "\n",
    "      Simpangan baku harga seblak di Jabodetabek: {std_lok},\n",
    "\n",
    "      Simpangan baku harga di Luar Jabodetabek: {std_luar},\n",
    "\n",
    "      H0 Terpenuhi : {mean_lok == mean_luar},\n",
    "\n",
    "      H1 Terpenuhi : {mean_lok != mean_luar}\n",
    "      '''\n",
    "      )\n"
   ]
  },
  {
   "cell_type": "markdown",
   "metadata": {},
   "source": [
    "#### Terlihat bahwa rata-rata harga seblak di jabodetabek dan rata-rata harga seblak di Luar Jabodetabek tidak sama.  \n",
    "#### Dapat disimpulkan bahwa H1 benar.\n"
   ]
  },
  {
   "cell_type": "markdown",
   "metadata": {},
   "source": [
    "---\n",
    "### Pengujian Single Sample T-Test"
   ]
  },
  {
   "cell_type": "markdown",
   "metadata": {},
   "source": [
    "Dalam Data ini, membuat sample acak data yang digunakan, dengan Looping sampai 100 kali untuk melihat dari setiap pengujian yang mana yang mengeluarkan p-value kurang dari 0.05. dengan begini, data menjadi lebih konsisten dalam hasil pengujian"
   ]
  },
  {
   "cell_type": "code",
   "execution_count": 36,
   "metadata": {},
   "outputs": [
    {
     "name": "stdout",
     "output_type": "stream",
     "text": [
      "t-statistic: -2.382060045548997\n",
      "p-value: 0.020575843731595253\n",
      "Jumlah uji yang menolak H0 :  100\n"
     ]
    }
   ],
   "source": [
    "# Ambil alpha (tingkat signifikansi)\n",
    "alpha = 0.05\n",
    "# counter yang di tolak\n",
    "reject_count = 0\n",
    "\n",
    "\n",
    "for i in range(100):\n",
    "    # ambil sample secara acak di jabodetabek dengan ukuran sama\n",
    "    sample = np.random.choice(datalok['harga'].values, size=len(dataluar['harga'].values), replace=False)\n",
    "\n",
    "    # uji t-sample satu arah\n",
    "    t_stat, p_value = stats.ttest_1samp(sample, np.mean(dataluar['harga'].values))\n",
    "\n",
    "    if p_value < alpha:\n",
    "        reject_count += 1\n",
    "\n",
    "\n",
    "# stat dan p_val akhir yang eksekusi\n",
    "print(\"t-statistic:\", t_stat)\n",
    "print(\"p-value:\", p_value)\n",
    "\n",
    "print('Jumlah uji yang menolak H0 : ', reject_count)\n"
   ]
  },
  {
   "cell_type": "markdown",
   "metadata": {},
   "source": [
    "Data di atas menunjukan H1 benar dengan mengubah sample secara acak dan men-loop data 100 kali dan menghitung yang menolak H0 "
   ]
  },
  {
   "cell_type": "markdown",
   "metadata": {},
   "source": [
    "#### `Konklusi` dari semua pengujian test dapat di simpulkan harga di jobodetabek dan harga di luar jabodetabek berbeda.  \n",
    "#### rata-rata di luar jabodetabek adalah Rp27.00 sedangkan rata-rata di jabodetabek adalah Rp19.38"
   ]
  },
  {
   "cell_type": "markdown",
   "metadata": {},
   "source": [
    "### Uji Kolerasi"
   ]
  },
  {
   "cell_type": "code",
   "execution_count": 38,
   "metadata": {},
   "outputs": [
    {
     "name": "stdout",
     "output_type": "stream",
     "text": [
      "Nilai korelasi pearson: 0.07808942180039297\n",
      "Nilai korelasi kandell: 0.08000315612393631\n",
      "p-value: 0.4047241134969272\n",
      "p-value: 0.2523252997708769\n",
      "Tidak ada hubungan yang signifikan antara harga produk dan rating.\n",
      "Tidak ada hubungan yang signifikan antara harga produk dan rating.\n"
     ]
    }
   ],
   "source": [
    "cor_pear, p_valPear = stats.pearsonr(df['harga'], df['rating'])\n",
    "cor_kendell, p_valKendell = stats.kendalltau(df['harga'], df['rating'])\n",
    "\n",
    "# Tampilkan hasil uji\n",
    "print(\"Nilai korelasi pearson:\", cor_pear)\n",
    "print(\"Nilai korelasi kandell:\", cor_kendell)\n",
    "print(\"p-value:\", p_valPear)\n",
    "print(\"p-value:\", p_valKendell)\n",
    "\n",
    "if p_valPear < 0.05:\n",
    "    print(\"Ada hubungan yang signifikan antara harga produk dan rating.\")\n",
    "else:\n",
    "    print(\"Tidak ada hubungan yang signifikan antara harga produk dan rating.\")\n",
    "\n",
    "if p_valKendell < 0.05:\n",
    "    print(\"Ada hubungan yang signifikan antara harga produk dan rating.\")\n",
    "else:\n",
    "    print(\"Tidak ada hubungan yang signifikan antara harga produk dan rating.\")"
   ]
  },
  {
   "cell_type": "markdown",
   "metadata": {},
   "source": [
    "dapat disimpulkan bahwa tidak ada kolerasi antara harga produk dan rating dengan melihat p_value < alpha"
   ]
  },
  {
   "cell_type": "markdown",
   "metadata": {},
   "source": [
    "### Analisa pembelian terhadap produk murah"
   ]
  },
  {
   "cell_type": "markdown",
   "metadata": {},
   "source": [
    "Dalam hal ini, saya berpikir apakah ada hubungan terjualnya suatu barang terhadap produk murah. Dengan pearson dan kendell"
   ]
  },
  {
   "cell_type": "markdown",
   "metadata": {},
   "source": [
    "### Pembuatan Hipotesis"
   ]
  },
  {
   "cell_type": "markdown",
   "metadata": {},
   "source": [
    "Dalam data produk seblak, saya berasumsi bahwa harga suatu produk memiliki hubungan dengan banyaknya pelanggan.\n",
    "\n",
    "Data yang dibutuhkan:\n",
    "- Harga\n",
    "- Terjual\n",
    "\n",
    "Hipotesis:\n",
    "- H0:Harga suatu produk tidak ada hubungannya dengan banyaknya pelanggan yang akan membeli\n",
    "- H1:Harga suatu produk ada hubungannya dengan banyaknya pelanggan yang akan membeli\n",
    "\n",
    "Metode:\n",
    "> pearson dan kendell"
   ]
  },
  {
   "cell_type": "markdown",
   "metadata": {},
   "source": [
    "Uji korelasi antara harga dan terjual"
   ]
  },
  {
   "cell_type": "code",
   "execution_count": 39,
   "metadata": {},
   "outputs": [
    {
     "name": "stdout",
     "output_type": "stream",
     "text": [
      "Koefisien korelasi Pearson: -0.04678862124316436\n",
      "Tipe korelasi Pearson: negatif\n",
      "Koefisien korelasi Kendall: -0.03925298191188876\n",
      "Tipe korelasi Kendall: negatif\n"
     ]
    }
   ],
   "source": [
    "\n",
    "# Menghitung koefisien korelasi Pearson\n",
    "pearson_corr, _ = stats.pearsonr(df['harga'], df['terjual'])\n",
    "\n",
    "# Menghitung koefisien korelasi Kendall\n",
    "kendall_corr, _ = stats.kendalltau(df['harga'], df['terjual'])\n",
    "\n",
    "# Menentukan apakah nilai korelasi positif atau negatif\n",
    "if pearson_corr > 0:\n",
    "    pearson_corr_type = \"positif\"\n",
    "elif pearson_corr < 0:\n",
    "    pearson_corr_type = \"negatif\"\n",
    "else:\n",
    "    pearson_corr_type = \"tidak ada korelasi\"\n",
    "\n",
    "if kendall_corr > 0:\n",
    "    kendall_corr_type = \"positif\"\n",
    "elif kendall_corr < 0:\n",
    "    kendall_corr_type = \"negatif\"\n",
    "else:\n",
    "    kendall_corr_type = \"tidak ada korelasi\"\n",
    "\n",
    "# Menampilkan hasil\n",
    "print(\"Koefisien korelasi Pearson:\", pearson_corr)\n",
    "print(\"Tipe korelasi Pearson:\", pearson_corr_type)\n",
    "\n",
    "print(\"Koefisien korelasi Kendall:\", kendall_corr)\n",
    "print(\"Tipe korelasi Kendall:\", kendall_corr_type)"
   ]
  },
  {
   "cell_type": "markdown",
   "metadata": {},
   "source": [
    "oke dari sini dapat disimpulakan bahwa hubungan korelasi rendah dan artinya H0 benar"
   ]
  },
  {
   "cell_type": "markdown",
   "metadata": {},
   "source": [
    "# E. Kesimpulan"
   ]
  },
  {
   "cell_type": "markdown",
   "metadata": {},
   "source": [
    "---"
   ]
  },
  {
   "cell_type": "markdown",
   "metadata": {},
   "source": [
    "- Harga Seblak yang sering muncul di jabodetabek Rp11.000, Rp15.000, dan Rp18.000. saya bisa memulai dengan harga kurang dari Rp19.000\n",
    "- Mengingat data boudary di atas saya akan mendapat keuntungan penjualan seblak berkisar dari 278 sampai 854 produk terjual perbulan.\n",
    "- Jabodetabek dan Luar Jabodetabek memiliki perbedaan harga seblak dikarenakan biaya bahan bakunya berbeda\n",
    "- Jabodetabek lebih murah dibanding Luar Jabodetabek dengan rata-rata harga seblak Jabodetabek < Luar Jabodetabek\n",
    "- Murah mahalnya harga sangat mempengaruhi banyaknya penjualan yang akan datang\n",
    "- **Berdasarkan data potensi keuntungan, saya bisa memulai dropshipper seblak yang tadi nya meragukan.**\n",
    "- **Saya akan menargetkan pasar di jabodetabek dan fokus ke kualitas produk**"
   ]
  },
  {
   "cell_type": "markdown",
   "metadata": {},
   "source": [
    "---"
   ]
  }
 ],
 "metadata": {
  "kernelspec": {
   "display_name": "base",
   "language": "python",
   "name": "python3"
  },
  "language_info": {
   "codemirror_mode": {
    "name": "ipython",
    "version": 3
   },
   "file_extension": ".py",
   "mimetype": "text/x-python",
   "name": "python",
   "nbconvert_exporter": "python",
   "pygments_lexer": "ipython3",
   "version": "3.11.5"
  }
 },
 "nbformat": 4,
 "nbformat_minor": 2
}
