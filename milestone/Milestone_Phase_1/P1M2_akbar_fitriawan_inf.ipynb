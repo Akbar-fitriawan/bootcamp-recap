{
 "cells": [
  {
   "cell_type": "markdown",
   "metadata": {},
   "source": [
    "# Import Libraries"
   ]
  },
  {
   "cell_type": "code",
   "execution_count": 42,
   "metadata": {},
   "outputs": [],
   "source": [
    "# library dataframe\n",
    "import pandas as pd\n",
    "# library olah data numerical\n",
    "import numpy as np\n",
    "\n",
    "# Save model\n",
    "import pickle\n",
    "# import joblib\n",
    "import json\n",
    "\n",
    "\n",
    "# Library to suppress warnings or deprecation notes\n",
    "import warnings\n",
    "warnings.filterwarnings('ignore')"
   ]
  },
  {
   "cell_type": "markdown",
   "metadata": {},
   "source": [
    "# Data inference"
   ]
  },
  {
   "cell_type": "markdown",
   "metadata": {},
   "source": [
    "Buat data dari Car insurance"
   ]
  },
  {
   "cell_type": "code",
   "execution_count": 43,
   "metadata": {},
   "outputs": [
    {
     "data": {
      "text/html": [
       "<div>\n",
       "<style scoped>\n",
       "    .dataframe tbody tr th:only-of-type {\n",
       "        vertical-align: middle;\n",
       "    }\n",
       "\n",
       "    .dataframe tbody tr th {\n",
       "        vertical-align: top;\n",
       "    }\n",
       "\n",
       "    .dataframe thead th {\n",
       "        text-align: right;\n",
       "    }\n",
       "</style>\n",
       "<table border=\"1\" class=\"dataframe\">\n",
       "  <thead>\n",
       "    <tr style=\"text-align: right;\">\n",
       "      <th></th>\n",
       "      <th>ID</th>\n",
       "      <th>AGE</th>\n",
       "      <th>GENDER</th>\n",
       "      <th>RACE</th>\n",
       "      <th>DRIVING_EXPERIENCE</th>\n",
       "      <th>EDUCATION</th>\n",
       "      <th>INCOME</th>\n",
       "      <th>CREDIT_SCORE</th>\n",
       "      <th>VEHICLE_OWNERSHIP</th>\n",
       "      <th>VEHICLE_YEAR</th>\n",
       "      <th>MARRIED</th>\n",
       "      <th>CHILDREN</th>\n",
       "      <th>POSTAL_CODE</th>\n",
       "      <th>ANNUAL_MILEAGE</th>\n",
       "      <th>VEHICLE_TYPE</th>\n",
       "      <th>SPEEDING_VIOLATIONS</th>\n",
       "      <th>DUIS</th>\n",
       "      <th>PAST_ACCIDENTS</th>\n",
       "      <th>OUTCOME</th>\n",
       "    </tr>\n",
       "  </thead>\n",
       "  <tbody>\n",
       "    <tr>\n",
       "      <th>0</th>\n",
       "      <td>1</td>\n",
       "      <td>Old</td>\n",
       "      <td>male</td>\n",
       "      <td>Majority</td>\n",
       "      <td>Amateur</td>\n",
       "      <td>none</td>\n",
       "      <td>middle class</td>\n",
       "      <td>1.605914</td>\n",
       "      <td>0.0</td>\n",
       "      <td>before 2015</td>\n",
       "      <td>1.0</td>\n",
       "      <td>0.0</td>\n",
       "      <td>21217</td>\n",
       "      <td>4226</td>\n",
       "      <td>sport car</td>\n",
       "      <td>17</td>\n",
       "      <td>31</td>\n",
       "      <td>8</td>\n",
       "      <td>0.0</td>\n",
       "    </tr>\n",
       "    <tr>\n",
       "      <th>1</th>\n",
       "      <td>2</td>\n",
       "      <td>Old</td>\n",
       "      <td>female</td>\n",
       "      <td>Minority</td>\n",
       "      <td>Newbie</td>\n",
       "      <td>none</td>\n",
       "      <td>working class</td>\n",
       "      <td>9.688488</td>\n",
       "      <td>1.0</td>\n",
       "      <td>after 2015</td>\n",
       "      <td>1.0</td>\n",
       "      <td>1.0</td>\n",
       "      <td>21217</td>\n",
       "      <td>15951</td>\n",
       "      <td>sedan</td>\n",
       "      <td>32</td>\n",
       "      <td>9</td>\n",
       "      <td>26</td>\n",
       "      <td>1.0</td>\n",
       "    </tr>\n",
       "    <tr>\n",
       "      <th>2</th>\n",
       "      <td>3</td>\n",
       "      <td>Old</td>\n",
       "      <td>female</td>\n",
       "      <td>Majority</td>\n",
       "      <td>Newbie</td>\n",
       "      <td>high school</td>\n",
       "      <td>middle class</td>\n",
       "      <td>4.462191</td>\n",
       "      <td>0.0</td>\n",
       "      <td>after 2015</td>\n",
       "      <td>1.0</td>\n",
       "      <td>0.0</td>\n",
       "      <td>32765</td>\n",
       "      <td>13363</td>\n",
       "      <td>sedan</td>\n",
       "      <td>28</td>\n",
       "      <td>49</td>\n",
       "      <td>11</td>\n",
       "      <td>0.0</td>\n",
       "    </tr>\n",
       "    <tr>\n",
       "      <th>3</th>\n",
       "      <td>4</td>\n",
       "      <td>Young</td>\n",
       "      <td>male</td>\n",
       "      <td>Majority</td>\n",
       "      <td>Newbie</td>\n",
       "      <td>high school</td>\n",
       "      <td>working class</td>\n",
       "      <td>4.872883</td>\n",
       "      <td>0.0</td>\n",
       "      <td>before 2015</td>\n",
       "      <td>0.0</td>\n",
       "      <td>0.0</td>\n",
       "      <td>32765</td>\n",
       "      <td>792</td>\n",
       "      <td>sedan</td>\n",
       "      <td>41</td>\n",
       "      <td>33</td>\n",
       "      <td>25</td>\n",
       "      <td>1.0</td>\n",
       "    </tr>\n",
       "    <tr>\n",
       "      <th>4</th>\n",
       "      <td>5</td>\n",
       "      <td>Middle Age</td>\n",
       "      <td>female</td>\n",
       "      <td>Minority</td>\n",
       "      <td>Newbie</td>\n",
       "      <td>university</td>\n",
       "      <td>working class</td>\n",
       "      <td>8.722264</td>\n",
       "      <td>0.0</td>\n",
       "      <td>before 2015</td>\n",
       "      <td>0.0</td>\n",
       "      <td>0.0</td>\n",
       "      <td>32765</td>\n",
       "      <td>13851</td>\n",
       "      <td>sedan</td>\n",
       "      <td>37</td>\n",
       "      <td>5</td>\n",
       "      <td>32</td>\n",
       "      <td>0.0</td>\n",
       "    </tr>\n",
       "    <tr>\n",
       "      <th>5</th>\n",
       "      <td>6</td>\n",
       "      <td>Middle Age</td>\n",
       "      <td>female</td>\n",
       "      <td>Majority</td>\n",
       "      <td>Expert</td>\n",
       "      <td>high school</td>\n",
       "      <td>middle class</td>\n",
       "      <td>3.827319</td>\n",
       "      <td>1.0</td>\n",
       "      <td>after 2015</td>\n",
       "      <td>1.0</td>\n",
       "      <td>0.0</td>\n",
       "      <td>32765</td>\n",
       "      <td>9197</td>\n",
       "      <td>sedan</td>\n",
       "      <td>27</td>\n",
       "      <td>4</td>\n",
       "      <td>19</td>\n",
       "      <td>1.0</td>\n",
       "    </tr>\n",
       "  </tbody>\n",
       "</table>\n",
       "</div>"
      ],
      "text/plain": [
       "   ID         AGE  GENDER      RACE DRIVING_EXPERIENCE    EDUCATION  \\\n",
       "0   1         Old    male  Majority            Amateur         none   \n",
       "1   2         Old  female  Minority             Newbie         none   \n",
       "2   3         Old  female  Majority             Newbie  high school   \n",
       "3   4       Young    male  Majority             Newbie  high school   \n",
       "4   5  Middle Age  female  Minority             Newbie   university   \n",
       "5   6  Middle Age  female  Majority             Expert  high school   \n",
       "\n",
       "          INCOME  CREDIT_SCORE  VEHICLE_OWNERSHIP VEHICLE_YEAR  MARRIED  \\\n",
       "0   middle class      1.605914                0.0  before 2015      1.0   \n",
       "1  working class      9.688488                1.0   after 2015      1.0   \n",
       "2   middle class      4.462191                0.0   after 2015      1.0   \n",
       "3  working class      4.872883                0.0  before 2015      0.0   \n",
       "4  working class      8.722264                0.0  before 2015      0.0   \n",
       "5   middle class      3.827319                1.0   after 2015      1.0   \n",
       "\n",
       "   CHILDREN  POSTAL_CODE  ANNUAL_MILEAGE VEHICLE_TYPE  SPEEDING_VIOLATIONS  \\\n",
       "0       0.0        21217            4226    sport car                   17   \n",
       "1       1.0        21217           15951        sedan                   32   \n",
       "2       0.0        32765           13363        sedan                   28   \n",
       "3       0.0        32765             792        sedan                   41   \n",
       "4       0.0        32765           13851        sedan                   37   \n",
       "5       0.0        32765            9197        sedan                   27   \n",
       "\n",
       "   DUIS  PAST_ACCIDENTS  OUTCOME  \n",
       "0    31               8      0.0  \n",
       "1     9              26      1.0  \n",
       "2    49              11      0.0  \n",
       "3    33              25      1.0  \n",
       "4     5              32      0.0  \n",
       "5     4              19      1.0  "
      ]
     },
     "execution_count": 43,
     "metadata": {},
     "output_type": "execute_result"
    }
   ],
   "source": [
    "data = [\n",
    "    {\n",
    "        'ID': i + 1,\n",
    "        'AGE': np.random.choice(['Young', 'Middle Age', 'Old','Very Old']),\n",
    "        'GENDER':np.random.choice(['male','female']),\n",
    "        'RACE': np.random.choice(['Majority', 'Minority']),\n",
    "        'DRIVING_EXPERIENCE': np.random.choice(['Newbie', 'Amateur', 'Advanced', 'Expert']),\n",
    "        'EDUCATION': np.random.choice(['high school','none', 'university']),\n",
    "        'INCOME': np.random.choice(['upper class', 'poverty', 'working class', 'middle class']),\n",
    "        'CREDIT_SCORE': np.random.uniform(0,10),\n",
    "        'VEHICLE_OWNERSHIP': np.random.choice([0.0, 1.0]),\n",
    "        'VEHICLE_YEAR': np.random.choice(['before 2015', 'after 2015']),\n",
    "        'MARRIED': np.random.choice([0.0,1.0]),\n",
    "        'CHILDREN': np.random.choice([0.0,1.0]),\n",
    "        'POSTAL_CODE': np.random.choice([10238, 32765, 92101, 21217]),\n",
    "        'ANNUAL_MILEAGE':np.random.randint(0, 25000),\n",
    "        'VEHICLE_TYPE':np.random.choice(['sedan', 'sport car']),\n",
    "        'SPEEDING_VIOLATIONS': np.random.randint(0,50),\n",
    "        'DUIS': np.random.randint(0,50),\n",
    "        'PAST_ACCIDENTS': np.random.randint(0,50),\n",
    "        'OUTCOME':np.random.choice([0.0,1.0])\n",
    "    } for i in range(6) \n",
    "]\n",
    "\n",
    "data = pd.DataFrame(data)\n",
    "data"
   ]
  },
  {
   "cell_type": "markdown",
   "metadata": {},
   "source": [
    "# Load model dan utilities"
   ]
  },
  {
   "cell_type": "code",
   "execution_count": 44,
   "metadata": {},
   "outputs": [],
   "source": [
    "# Load model and other files\n",
    "\n",
    "# with open('list_cat_cols.txt', 'r') as file_1: # jika di butuhkan\n",
    "#   list_cat_col = json.load(file_1)\n",
    "\n",
    "# with open('list_num_cols.txt', 'r') as file_2: #jika dibutuh kan\n",
    "#   list_num_col = json.load(file_2)\n",
    "\n",
    "with open(\"ranfo_pipe.pkl\", \"rb\") as file_3:\n",
    "  ranfo_pipe = pickle.load(file_3)\n",
    "\n",
    "# with open(\"scaler.pkl\", \"rb\") as file_4: #jika dibutuh kan\n",
    "#   scaler = pickle.load(file_4)\n",
    "\n",
    "# with open(\"encoder.pkl\", \"rb\") as file_5: #jika dibutuh kan\n",
    "#   encoder = pickle.load(file_5)"
   ]
  },
  {
   "cell_type": "markdown",
   "metadata": {},
   "source": [
    "# Prediction"
   ]
  },
  {
   "cell_type": "code",
   "execution_count": 45,
   "metadata": {},
   "outputs": [
    {
     "data": {
      "text/plain": [
       "array([1., 0., 0., 1., 1., 0.])"
      ]
     },
     "execution_count": 45,
     "metadata": {},
     "output_type": "execute_result"
    }
   ],
   "source": [
    "ranfo_prediction = ranfo_pipe.predict(data)\n",
    "ranfo_prediction"
   ]
  },
  {
   "cell_type": "code",
   "execution_count": 46,
   "metadata": {},
   "outputs": [
    {
     "data": {
      "text/plain": [
       "1.0"
      ]
     },
     "execution_count": 46,
     "metadata": {},
     "output_type": "execute_result"
    }
   ],
   "source": [
    "ranfo_prediction[0]"
   ]
  }
 ],
 "metadata": {
  "kernelspec": {
   "display_name": "base",
   "language": "python",
   "name": "python3"
  },
  "language_info": {
   "codemirror_mode": {
    "name": "ipython",
    "version": 3
   },
   "file_extension": ".py",
   "mimetype": "text/x-python",
   "name": "python",
   "nbconvert_exporter": "python",
   "pygments_lexer": "ipython3",
   "version": "3.11.5"
  }
 },
 "nbformat": 4,
 "nbformat_minor": 2
}
