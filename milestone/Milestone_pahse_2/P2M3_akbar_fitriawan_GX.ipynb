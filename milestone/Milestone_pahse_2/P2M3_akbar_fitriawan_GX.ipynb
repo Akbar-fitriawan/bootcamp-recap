{
 "cells": [
  {
   "cell_type": "markdown",
   "metadata": {},
   "source": [
    "# Milestone 3\n",
    "\n",
    "Nama  : Akbar Fitriawan\n",
    "Batch : FTDS-15-HCK\n",
    "\n",
    "Program ini dibuat untuk melakukan great expectations berdasarkan data yang sudah di clean dari airflow"
   ]
  },
  {
   "cell_type": "markdown",
   "metadata": {},
   "source": [
    "---"
   ]
  },
  {
   "cell_type": "markdown",
   "metadata": {},
   "source": [
    "# Import libraries"
   ]
  },
  {
   "cell_type": "code",
   "execution_count": 18,
   "metadata": {},
   "outputs": [],
   "source": [
    "import pandas as pd\n",
    "import great_expectations as ge\n",
    "from great_expectations.dataset.pandas_dataset import PandasDataset"
   ]
  },
  {
   "cell_type": "markdown",
   "metadata": {},
   "source": [
    "# Load Data"
   ]
  },
  {
   "cell_type": "code",
   "execution_count": 19,
   "metadata": {},
   "outputs": [
    {
     "data": {
      "text/html": [
       "<div>\n",
       "<style scoped>\n",
       "    .dataframe tbody tr th:only-of-type {\n",
       "        vertical-align: middle;\n",
       "    }\n",
       "\n",
       "    .dataframe tbody tr th {\n",
       "        vertical-align: top;\n",
       "    }\n",
       "\n",
       "    .dataframe thead th {\n",
       "        text-align: right;\n",
       "    }\n",
       "</style>\n",
       "<table border=\"1\" class=\"dataframe\">\n",
       "  <thead>\n",
       "    <tr style=\"text-align: right;\">\n",
       "      <th></th>\n",
       "      <th>address</th>\n",
       "      <th>rent</th>\n",
       "      <th>beds</th>\n",
       "      <th>baths</th>\n",
       "      <th>type</th>\n",
       "      <th>area_in_sqft</th>\n",
       "      <th>rent_per_sqft</th>\n",
       "      <th>rent_category</th>\n",
       "      <th>furnishing</th>\n",
       "      <th>posted_date</th>\n",
       "      <th>age_of_listing_in_days</th>\n",
       "      <th>location</th>\n",
       "      <th>city</th>\n",
       "      <th>latitude</th>\n",
       "      <th>longitude</th>\n",
       "      <th>posted_month</th>\n",
       "      <th>posted_year</th>\n",
       "    </tr>\n",
       "  </thead>\n",
       "  <tbody>\n",
       "    <tr>\n",
       "      <th>0</th>\n",
       "      <td>The Gate Tower 2, The Gate Tower, Shams Gate D...</td>\n",
       "      <td>124000</td>\n",
       "      <td>3</td>\n",
       "      <td>4</td>\n",
       "      <td>Apartment</td>\n",
       "      <td>1785</td>\n",
       "      <td>69.467787</td>\n",
       "      <td>Medium</td>\n",
       "      <td>Unfurnished</td>\n",
       "      <td>2024-03-07</td>\n",
       "      <td>45</td>\n",
       "      <td>Al Reem Island</td>\n",
       "      <td>Abu Dhabi</td>\n",
       "      <td>24.493598</td>\n",
       "      <td>54.407841</td>\n",
       "      <td>3</td>\n",
       "      <td>2024</td>\n",
       "    </tr>\n",
       "    <tr>\n",
       "      <th>1</th>\n",
       "      <td>Water's Edge, Yas Island, Abu Dhabi</td>\n",
       "      <td>140000</td>\n",
       "      <td>3</td>\n",
       "      <td>4</td>\n",
       "      <td>Apartment</td>\n",
       "      <td>1422</td>\n",
       "      <td>98.452883</td>\n",
       "      <td>Medium</td>\n",
       "      <td>Unfurnished</td>\n",
       "      <td>2024-03-08</td>\n",
       "      <td>44</td>\n",
       "      <td>Yas Island</td>\n",
       "      <td>Abu Dhabi</td>\n",
       "      <td>24.494022</td>\n",
       "      <td>54.607372</td>\n",
       "      <td>3</td>\n",
       "      <td>2024</td>\n",
       "    </tr>\n",
       "    <tr>\n",
       "      <th>2</th>\n",
       "      <td>Al Raha Lofts, Al Raha Beach, Abu Dhabi</td>\n",
       "      <td>99000</td>\n",
       "      <td>2</td>\n",
       "      <td>3</td>\n",
       "      <td>Apartment</td>\n",
       "      <td>1314</td>\n",
       "      <td>75.342466</td>\n",
       "      <td>Medium</td>\n",
       "      <td>Furnished</td>\n",
       "      <td>2024-03-21</td>\n",
       "      <td>31</td>\n",
       "      <td>Al Raha Beach</td>\n",
       "      <td>Abu Dhabi</td>\n",
       "      <td>24.485931</td>\n",
       "      <td>54.600939</td>\n",
       "      <td>3</td>\n",
       "      <td>2024</td>\n",
       "    </tr>\n",
       "    <tr>\n",
       "      <th>3</th>\n",
       "      <td>Marina Heights, Marina Square, Al Reem Island,...</td>\n",
       "      <td>220000</td>\n",
       "      <td>3</td>\n",
       "      <td>4</td>\n",
       "      <td>Penthouse</td>\n",
       "      <td>3843</td>\n",
       "      <td>57.246942</td>\n",
       "      <td>High</td>\n",
       "      <td>Unfurnished</td>\n",
       "      <td>2024-02-24</td>\n",
       "      <td>57</td>\n",
       "      <td>Al Reem Island</td>\n",
       "      <td>Abu Dhabi</td>\n",
       "      <td>24.493598</td>\n",
       "      <td>54.407841</td>\n",
       "      <td>2</td>\n",
       "      <td>2024</td>\n",
       "    </tr>\n",
       "    <tr>\n",
       "      <th>4</th>\n",
       "      <td>West Yas, Yas Island, Abu Dhabi</td>\n",
       "      <td>350000</td>\n",
       "      <td>5</td>\n",
       "      <td>7</td>\n",
       "      <td>Villa</td>\n",
       "      <td>6860</td>\n",
       "      <td>51.020408</td>\n",
       "      <td>High</td>\n",
       "      <td>Unfurnished</td>\n",
       "      <td>2024-02-16</td>\n",
       "      <td>65</td>\n",
       "      <td>Yas Island</td>\n",
       "      <td>Abu Dhabi</td>\n",
       "      <td>24.494022</td>\n",
       "      <td>54.607372</td>\n",
       "      <td>2</td>\n",
       "      <td>2024</td>\n",
       "    </tr>\n",
       "  </tbody>\n",
       "</table>\n",
       "</div>"
      ],
      "text/plain": [
       "                                             address    rent  beds  baths  \\\n",
       "0  The Gate Tower 2, The Gate Tower, Shams Gate D...  124000     3      4   \n",
       "1                Water's Edge, Yas Island, Abu Dhabi  140000     3      4   \n",
       "2            Al Raha Lofts, Al Raha Beach, Abu Dhabi   99000     2      3   \n",
       "3  Marina Heights, Marina Square, Al Reem Island,...  220000     3      4   \n",
       "4                    West Yas, Yas Island, Abu Dhabi  350000     5      7   \n",
       "\n",
       "        type  area_in_sqft  rent_per_sqft rent_category   furnishing  \\\n",
       "0  Apartment          1785      69.467787        Medium  Unfurnished   \n",
       "1  Apartment          1422      98.452883        Medium  Unfurnished   \n",
       "2  Apartment          1314      75.342466        Medium    Furnished   \n",
       "3  Penthouse          3843      57.246942          High  Unfurnished   \n",
       "4      Villa          6860      51.020408          High  Unfurnished   \n",
       "\n",
       "  posted_date  age_of_listing_in_days        location       city   latitude  \\\n",
       "0  2024-03-07                      45  Al Reem Island  Abu Dhabi  24.493598   \n",
       "1  2024-03-08                      44      Yas Island  Abu Dhabi  24.494022   \n",
       "2  2024-03-21                      31   Al Raha Beach  Abu Dhabi  24.485931   \n",
       "3  2024-02-24                      57  Al Reem Island  Abu Dhabi  24.493598   \n",
       "4  2024-02-16                      65      Yas Island  Abu Dhabi  24.494022   \n",
       "\n",
       "   longitude  posted_month  posted_year  \n",
       "0  54.407841             3         2024  \n",
       "1  54.607372             3         2024  \n",
       "2  54.600939             3         2024  \n",
       "3  54.407841             2         2024  \n",
       "4  54.607372             2         2024  "
      ]
     },
     "execution_count": 19,
     "metadata": {},
     "output_type": "execute_result"
    }
   ],
   "source": [
    "df = pd.read_csv('dags/P2M3_akbar_fitriawan_data_clean.csv')\n",
    "df.head()"
   ]
  },
  {
   "cell_type": "code",
   "execution_count": 77,
   "metadata": {},
   "outputs": [
    {
     "name": "stdout",
     "output_type": "stream",
     "text": [
      "0    0_0ThAB\n",
      "1    1_0WaAB\n",
      "2    2_0AlAB\n",
      "3    3_0MaAB\n",
      "4    4_0WeAB\n",
      "Name: unique_id, dtype: object\n"
     ]
    }
   ],
   "source": [
    "# Function to generate unique_id based on index, address, and city\n",
    "def generate_unique_id(row):\n",
    "    unique_id = f'{row.name}_0{row[\"address\"][:2]}{row[\"city\"][:2].upper()}'\n",
    "    return unique_id\n",
    "\n",
    "# Apply the function to create unique_id column\n",
    "df['unique_id'] = df.apply(generate_unique_id, axis=1)\n",
    "\n",
    "# Print some rows to verify\n",
    "print(df['unique_id'].head())"
   ]
  },
  {
   "cell_type": "code",
   "execution_count": 78,
   "metadata": {},
   "outputs": [
    {
     "name": "stdout",
     "output_type": "stream",
     "text": [
      "<class 'pandas.core.frame.DataFrame'>\n",
      "RangeIndex: 73727 entries, 0 to 73726\n",
      "Data columns (total 18 columns):\n",
      " #   Column                  Non-Null Count  Dtype  \n",
      "---  ------                  --------------  -----  \n",
      " 0   address                 73727 non-null  object \n",
      " 1   rent                    73727 non-null  int64  \n",
      " 2   beds                    73727 non-null  int64  \n",
      " 3   baths                   73727 non-null  int64  \n",
      " 4   type                    73727 non-null  object \n",
      " 5   area_in_sqft            73727 non-null  int64  \n",
      " 6   rent_per_sqft           73727 non-null  float64\n",
      " 7   rent_category           73727 non-null  object \n",
      " 8   furnishing              73727 non-null  object \n",
      " 9   posted_date             73727 non-null  object \n",
      " 10  age_of_listing_in_days  73727 non-null  int64  \n",
      " 11  location                73727 non-null  object \n",
      " 12  city                    73727 non-null  object \n",
      " 13  latitude                73727 non-null  float64\n",
      " 14  longitude               73727 non-null  float64\n",
      " 15  posted_month            73727 non-null  int64  \n",
      " 16  posted_year             73727 non-null  int64  \n",
      " 17  unique_id               73727 non-null  object \n",
      "dtypes: float64(3), int64(7), object(8)\n",
      "memory usage: 10.1+ MB\n"
     ]
    }
   ],
   "source": [
    "df.info()"
   ]
  },
  {
   "cell_type": "code",
   "execution_count": 80,
   "metadata": {},
   "outputs": [],
   "source": [
    "# konversi ke great expectations\n",
    "ge_df = PandasDataset(df)"
   ]
  },
  {
   "cell_type": "markdown",
   "metadata": {},
   "source": [
    "# Great expectations\n",
    "\n",
    "schema sebagai berikut :\n",
    "\n",
    "- unique_id harus unique\n",
    "- rent tidak ada yang minus\n",
    "- beds min 0 sampai 12\n",
    "- baths min 1 sampai 12\n",
    "- furnishing hanya dua kategori\n",
    "- rent_category hanya tiga kategori\n",
    "- latitude dan longitude harus tipe data float\n",
    "- age_of_listing_in_days harus int64\n"
   ]
  },
  {
   "cell_type": "code",
   "execution_count": 82,
   "metadata": {},
   "outputs": [
    {
     "name": "stdout",
     "output_type": "stream",
     "text": [
      "Expectation 1 (unique id):  True\n"
     ]
    }
   ],
   "source": [
    "# 1. Expect 'address' to be unique\n",
    "expectation_unique_id = ge_df.expect_column_values_to_be_unique('unique_id')\n",
    "print(\"Expectation 1 (unique id): \", expectation_unique_id[\"success\"])"
   ]
  },
  {
   "cell_type": "code",
   "execution_count": 83,
   "metadata": {},
   "outputs": [
    {
     "name": "stdout",
     "output_type": "stream",
     "text": [
      "Expectation 2 (rent non-negative):  True\n"
     ]
    }
   ],
   "source": [
    "# 2. Expect 'rent' to be non-negative\n",
    "expectation_rent_non_negative = ge_df.expect_column_min_to_be_between('rent', min_value=0, max_value=None)\n",
    "print(\"Expectation 2 (rent non-negative): \", expectation_rent_non_negative[\"success\"])"
   ]
  },
  {
   "cell_type": "code",
   "execution_count": 84,
   "metadata": {},
   "outputs": [
    {
     "name": "stdout",
     "output_type": "stream",
     "text": [
      "Expectation 3 (beds range):  True\n"
     ]
    }
   ],
   "source": [
    "# 3. Expect 'beds' to be between 1 and 13\n",
    "expectation_beds_range = ge_df.expect_column_values_to_be_between('beds', min_value=0, max_value=12)\n",
    "print(\"Expectation 3 (beds range): \", expectation_beds_range[\"success\"])"
   ]
  },
  {
   "cell_type": "code",
   "execution_count": 85,
   "metadata": {},
   "outputs": [
    {
     "name": "stdout",
     "output_type": "stream",
     "text": [
      "Expectation 4 (baths range):  True\n"
     ]
    }
   ],
   "source": [
    "# 4. Expect 'baths' to be between 1 and 12\n",
    "expectation_baths_range = ge_df.expect_column_values_to_be_between('baths', min_value=1, max_value=12)\n",
    "print(\"Expectation 4 (baths range): \", expectation_baths_range[\"success\"])"
   ]
  },
  {
   "cell_type": "code",
   "execution_count": 86,
   "metadata": {},
   "outputs": [
    {
     "name": "stdout",
     "output_type": "stream",
     "text": [
      "Expectation 5 (furnishing categories):  True\n"
     ]
    }
   ],
   "source": [
    "# Expect 'furnishing' to be one of two categories\n",
    "expectation_furnishing_categories = ge_df.expect_column_distinct_values_to_be_in_set('furnishing', ['Unfurnished', 'Furnished'])\n",
    "# Print success for Expectation 5 (furnishing categories)\n",
    "print(\"Expectation 5 (furnishing categories): \", expectation_furnishing_categories[\"success\"])"
   ]
  },
  {
   "cell_type": "code",
   "execution_count": 87,
   "metadata": {},
   "outputs": [
    {
     "name": "stdout",
     "output_type": "stream",
     "text": [
      "Expectation 6 (rent_category categories):  True\n"
     ]
    }
   ],
   "source": [
    "# 6. Expect 'rent_category' to be one of three categories\n",
    "expectation_rent_category_categories = ge_df.expect_column_distinct_values_to_be_in_set('rent_category', ['Low', 'Medium', 'High'])\n",
    "print(\"Expectation 6 (rent_category categories): \", expectation_rent_category_categories[\"success\"])"
   ]
  },
  {
   "cell_type": "code",
   "execution_count": 88,
   "metadata": {},
   "outputs": [
    {
     "name": "stdout",
     "output_type": "stream",
     "text": [
      "Expectation 7 (latitude type):  True\n",
      "Expectation 8 (longitude type):  True\n"
     ]
    }
   ],
   "source": [
    "# 7. Expect 'latitude' and 'longitude' to be of float data type\n",
    "expectation_latitude_type = ge_df.expect_column_values_to_be_of_type('latitude', 'float')\n",
    "expectation_longitude_type = ge_df.expect_column_values_to_be_of_type('longitude', 'float')\n",
    "print(\"Expectation 7 (latitude type): \", expectation_latitude_type[\"success\"])\n",
    "print(\"Expectation 8 (longitude type): \", expectation_longitude_type[\"success\"])"
   ]
  },
  {
   "cell_type": "code",
   "execution_count": 91,
   "metadata": {},
   "outputs": [
    {
     "name": "stdout",
     "output_type": "stream",
     "text": [
      "Expectation 9 (age_of_listing_in_days type):  True\n"
     ]
    }
   ],
   "source": [
    "# 9. Expect 'age_of_listing_in_days' to be of int64 type\n",
    "expectation_age_of_listing_type = ge_df.expect_column_values_to_be_of_type('age_of_listing_in_days', 'int64')\n",
    "print(\"Expectation 9 (age_of_listing_in_days type): \", expectation_age_of_listing_type[\"success\"])"
   ]
  }
 ],
 "metadata": {
  "kernelspec": {
   "display_name": "base",
   "language": "python",
   "name": "python3"
  },
  "language_info": {
   "codemirror_mode": {
    "name": "ipython",
    "version": 3
   },
   "file_extension": ".py",
   "mimetype": "text/x-python",
   "name": "python",
   "nbconvert_exporter": "python",
   "pygments_lexer": "ipython3",
   "version": "3.12.1"
  }
 },
 "nbformat": 4,
 "nbformat_minor": 2
}
