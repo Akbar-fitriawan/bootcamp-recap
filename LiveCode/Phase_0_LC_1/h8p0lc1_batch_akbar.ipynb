{
  "nbformat": 4,
  "nbformat_minor": 0,
  "metadata": {
    "colab": {
      "provenance": []
    },
    "kernelspec": {
      "name": "python3",
      "display_name": "Python 3"
    },
    "language_info": {
      "name": "python"
    }
  },
  "cells": [
    {
      "cell_type": "markdown",
      "source": [
        "\n",
        "=================================================\n",
        "# Graded Challenge 1\n",
        "\n",
        "## Nama  : Akbar-Fitriawan\n",
        "## Batch : HCK-14\n",
        "\n",
        "\n",
        "=================================================\n"
      ],
      "metadata": {
        "id": "soEDxwNgOskq"
      }
    },
    {
      "cell_type": "code",
      "source": [
        "def member_diskon(customer, harga):\n",
        "\n",
        "  customer_reguler = 'customer_reguler'\n",
        "  customer_vip = 'customer vip'\n",
        "  if customer == customer_reguler:\n",
        "\n",
        "      if harga >= 10000:\n",
        "        customer_diskon_10 = 10\n",
        "        print(f'{customer_reguler} mendapat diskon {customer_diskon_10} %')\n",
        "      elif harga <= 10000:\n",
        "        customer_diskon_5 = 5\n",
        "        print(f'{customer_reguler} mendapat diskon {customer_diskon_5} %')\n",
        "\n",
        "  elif customer == customer_vip:\n",
        "\n",
        "    if harga >= 50000:\n",
        "      customer_diskon_30 = 30\n",
        "      print(f'{customer_vip} mendapat diskon {customer_diskon_30} %')\n",
        "\n",
        "    elif harga<= 50000:\n",
        "      customer_diskon_20 = 20\n",
        "      print(f'{customer_vip} mendapat diskon {customer_diskon_20} %')\n",
        "\n",
        "  else:\n",
        "    print('tidak ada diskon')\n",
        "\n",
        "  return customer, harga\n",
        "\n",
        "\n",
        "\n",
        "\n",
        "\n"
      ],
      "metadata": {
        "id": "v2ntI3UlR2QQ"
      },
      "execution_count": 88,
      "outputs": []
    },
    {
      "cell_type": "code",
      "source": [
        "\n",
        "akbar = member_diskon('customer_reguler', harga=200000)\n"
      ],
      "metadata": {
        "colab": {
          "base_uri": "https://localhost:8080/"
        },
        "id": "tq31ZZnLQmlp",
        "outputId": "7dee55fb-ce49-4be5-8996-e7e8f7230113"
      },
      "execution_count": 89,
      "outputs": [
        {
          "output_type": "stream",
          "name": "stdout",
          "text": [
            "customer_reguler mendapat diskon 10 %\n"
          ]
        }
      ]
    },
    {
      "cell_type": "code",
      "execution_count": 90,
      "metadata": {
        "id": "JBJ-RwZQNghw"
      },
      "outputs": [],
      "source": [
        "def discount( harga_awal,persen_harga):\n",
        "  discount = (persen_harga/100) * harga_awal\n",
        "  hasil = harga_awal - discount\n",
        "  return hasil\n"
      ]
    },
    {
      "cell_type": "code",
      "source": [
        "akbar = discount(200000,10)"
      ],
      "metadata": {
        "id": "K2o5Cmctpalc"
      },
      "execution_count": 92,
      "outputs": []
    },
    {
      "cell_type": "code",
      "source": [
        "akbar"
      ],
      "metadata": {
        "colab": {
          "base_uri": "https://localhost:8080/"
        },
        "id": "-cRmOi2PvAEX",
        "outputId": "5cb7ad45-d2d6-4393-8abf-4c8e972e1156"
      },
      "execution_count": 93,
      "outputs": [
        {
          "output_type": "execute_result",
          "data": {
            "text/plain": [
              "180000.0"
            ]
          },
          "metadata": {},
          "execution_count": 93
        }
      ]
    },
    {
      "cell_type": "code",
      "source": [
        "x = discount(12000, 10)"
      ],
      "metadata": {
        "id": "n3iboViWp2FC"
      },
      "execution_count": 77,
      "outputs": []
    },
    {
      "cell_type": "code",
      "source": [
        "\n",
        "def tambah(nama , harga):\n",
        "  item = []\n",
        "  barang = (nama,harga)\n",
        "  return item.append(barang)\n"
      ],
      "metadata": {
        "id": "98zNbLNmoBKK"
      },
      "execution_count": 95,
      "outputs": []
    },
    {
      "cell_type": "code",
      "source": [
        "def menghitung_total(nama, *harga_barang):\n",
        "  item=[]\n",
        "  barang = (nama,harga_barang)\n",
        "  item.append(barang)\n",
        "  total = 0\n",
        "  for i in item:\n",
        "    total += item\n",
        "  return total\n"
      ],
      "metadata": {
        "id": "zpkba9VYq2lQ"
      },
      "execution_count": 97,
      "outputs": []
    }
  ]
}